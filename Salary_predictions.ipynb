{
  "nbformat": 4,
  "nbformat_minor": 0,
  "metadata": {
    "colab": {
      "name": "Untitled",
      "provenance": [],
      "collapsed_sections": [],
      "machine_shape": "hm",
      "authorship_tag": "ABX9TyMPYE1tzX0LWP4W681mBOzc",
      "include_colab_link": true
    },
    "kernelspec": {
      "name": "python3",
      "display_name": "Python 3"
    }
  },
  "cells": [
    {
      "cell_type": "markdown",
      "metadata": {
        "id": "view-in-github",
        "colab_type": "text"
      },
      "source": [
        "<a href=\"https://colab.research.google.com/github/Anup2907/salarypredictionportfolio/blob/master/Salary_predictions.ipynb\" target=\"_parent\"><img src=\"https://colab.research.google.com/assets/colab-badge.svg\" alt=\"Open In Colab\"/></a>"
      ]
    },
    {
      "cell_type": "markdown",
      "metadata": {
        "id": "WoIL8oUWzdRc",
        "colab_type": "text"
      },
      "source": [
        "#1. DEFINE\n",
        "\n",
        "#Using 4D Data Science framework to predict salaries of employees from their qualifications and job locations with MSE as metric"
      ]
    },
    {
      "cell_type": "code",
      "metadata": {
        "id": "5MP69YTla2F0",
        "colab_type": "code",
        "colab": {}
      },
      "source": [
        "#My info here\n",
        "__author__ = \"Anup Kumar Chittimalla\"\n",
        "__email__ = \"anup.chitts@gmail.com\"\n",
        "\n",
        "#Installing catboost\n",
        "!pip install catboost\n",
        "\n",
        "#import libraries\n",
        "import pandas as pd\n",
        "import numpy as np\n",
        "from matplotlib import pyplot as plt\n",
        "import seaborn as sns ; sns.set(color_codes=True)\n",
        "from statsmodels.stats.outliers_influence import variance_inflation_factor\n",
        "from sklearn.pipeline import make_pipeline\n",
        "from sklearn.model_selection import cross_val_score\n",
        "from sklearn.model_selection import train_test_split\n",
        "from sklearn.model_selection import GridSearchCV\n",
        "from sklearn.ensemble import RandomForestRegressor\n",
        "import lightgbm as lgb\n",
        "from catboost import CatBoostRegressor\n",
        "import statsmodels.api as sm\n",
        "import statsmodels.formula.api as smf\n",
        "from scipy import stats as sts\n",
        "from statsmodels.stats.diagnostic import het_breuschpagan as bp\n",
        "from statsmodels.stats.stattools import durbin_watson as dw\n",
        "from sklearn.linear_model import LinearRegression\n",
        "from sklearn.decomposition import PCA\n",
        "from sklearn.preprocessing import StandardScaler\n",
        "from sklearn.metrics import mean_squared_error\n",
        "from sklearn.utils import shuffle\n",
        "import warnings\n",
        "warnings.filterwarnings(\"ignore\")\n",
        "\n",
        "'''========================================================================================    \n",
        "  Machine Learning template for Regression & Classification datasets that can be used by \n",
        "  calling the required functions from the respective classes:\n",
        "\n",
        "  Class Data :          Contains functions load_file, consolidate_data, data_info, \n",
        "                        categorical_cols, numerical_cols, missing_data, potential_outlier, \n",
        "                        clean_data, obj_to_cat, label_encode, one_hot_encode\n",
        "\n",
        "  Class Regr_assump :   Contains functions target_dist, vif, ols_summ (joint_plot, QQ_plot) \n",
        "\n",
        "  Class Descrip_stats : Contains functions describe, hist, log_transform, scatter_plot,\n",
        "                        count_box_plot\n",
        "\n",
        "  Class Feat_engg :     Contains group_mean, group_median, group_std, group_max, group_min\n",
        "\n",
        "  Class Model :         Contains train_model, test_results, print_summary, save_results \n",
        "  ========================================================================================='''                           \n",
        "\n",
        "class Data:\n",
        "    \n",
        "  def __init__(self,target_var):\n",
        "    self.target_var = target_var\n",
        "  \n",
        "  def load_file(file):\n",
        "    '''loads csv to pd dataframe'''\n",
        "    return pd.read_csv(file)\n",
        "  \n",
        "  def consolidate_data(df1, df2, key=None, left_index=False, right_index=False):\n",
        "    '''perform inner join to return only records that are present in both dataframes'''\n",
        "    return pd.merge(left=df1, right=df2, on=key, left_index=left_index, right_index=right_index)\n",
        "  \n",
        "  def data_info(file, verbose=True):\n",
        "    '''checks length and dtypes of dataframes'''\n",
        "    return file.info(verbose=verbose)\n",
        "  \n",
        "  def categorical_cols(df):\n",
        "    '''Identifies categorical data from other datatypes'''\n",
        "    cat_cols = df.select_dtypes(include = 'O')\n",
        "    categorical_cols = list(cat_cols.columns.values)\n",
        "    return categorical_cols\n",
        "  \n",
        "  def numerical_cols(df):\n",
        "    '''Identifies numerical data from other datatypes'''\n",
        "    num_cols = df.select_dtypes(include = [np.number])\n",
        "    numerical_cols = list(num_cols.columns.values)\n",
        "    return numerical_cols\n",
        "  \n",
        "  def missing_data(df):\n",
        "    '''returns missing data percentage in dataframe'''\n",
        "    return df.isnull().sum()/len(df)*100\n",
        "            \n",
        "  def potential_outlier(df):\n",
        "    '''detects potential outliers using IQR'''\n",
        "    stat = df[target_var].describe()\n",
        "    IQR = stat['75%'] - stat['25%']\n",
        "    upper = stat['75%'] + 1.5 * IQR\n",
        "    lower = stat['25%'] - 1.5 * IQR\n",
        "    print(\"stat:\\t {}\".format(stat))\n",
        "    print(\"-----------------------------------------------------\")\n",
        "    print(\"IQR:\\t {}\".format(IQR))\n",
        "    print(\"upper:\\t {}\".format(upper))\n",
        "    print(\"lower:\\t {}\".format(lower))\n",
        "    print('The upper and lower bounds for suspected outliers are {} and {}.'.format(upper, lower))\n",
        "\n",
        "  def clean_data(raw_df):\n",
        "    '''remove rows that contain salary <= 8.5 (lower band) or duplicate job IDs'''\n",
        "    duplicate = raw_df.duplicated().sum()\n",
        "    clean_df = raw_df.drop_duplicates(subset='jobId')\n",
        "    print(\"---------------------------------------------------------------------\")\n",
        "    print(\"There are {} duplicate rows that have been removed\".format(duplicate))\n",
        "    print(\"---------------------------------------------------------------------\")\n",
        "    lowbandrows = clean_df[clean_df.salary <= 8.5]\n",
        "    clean_df = clean_df[clean_df.salary > 8.5]\n",
        "    print(\"{} rows that contain salary <=8.5 have been removed\".format(lowbandrows))\n",
        "    return clean_df\n",
        "    \n",
        "  def obj_to_cat(df):\n",
        "    '''changing dtype from object to category'''\n",
        "    columns = ['companyId', 'jobType', 'degree', 'major', 'industry']\n",
        "    for col in columns:\n",
        "        df[col] = df[col].astype('category')\n",
        "    return df.dtypes    \n",
        "  \n",
        "  def label_encode(label_df,col):\n",
        "    '''encode the categories using avg salary for each category to replace label'''\n",
        "    cat_dict = {}\n",
        "    cats = label_df[col].cat.categories.tolist()\n",
        "    for cat in cats:\n",
        "        cat_dict[cat] = label_df[label_df[col] == cat]['salary'].mean()\n",
        "    label_df[col] = label_df[col].map(cat_dict)\n",
        "\n",
        "  def one_hot_encode(df, cat_vars=None, num_vars=None):\n",
        "    '''performs one-hot encoding on all categorical variables and combines result with continous variables'''\n",
        "    cat_df = pd.get_dummies(df[cat_vars])\n",
        "    num_df = df[num_vars].apply(pd.to_numeric)\n",
        "    return pd.concat([cat_df, num_df], axis=1)\n",
        "\n",
        "\n",
        "class Regr_assump:\n",
        "    \n",
        "  def __init__(self,target_var):\n",
        "    self.target_var = target_var\n",
        "  \n",
        "  #target variable normal distribution check            \n",
        "  def target_dist(df):\n",
        "    '''visualizing distribution of target variable'''\n",
        "    plt.figure(figsize = (14,6))\n",
        "    plt.subplot(1,2,1)\n",
        "    sns.boxplot(df[target_var])\n",
        "    plt.subplot(1,2,2)\n",
        "    sns.distplot(df[target_var], bins=20)\n",
        "    return plt.show()\n",
        "  \n",
        "  #Multicollinearity and linearity check\n",
        "  def correlation(self,df):\n",
        "    '''correlations between selected features'''\n",
        "    plt.figure(figsize=(12,10))\n",
        "    sns.heatmap(df[self + [target_var]].corr(), cmap = 'coolwarm', annot=True)\n",
        "    plt.xticks(rotation=45)\n",
        "    return plt.show() \n",
        "  \n",
        "  def vif(self,df):\n",
        "    '''checking multicollinearity through VIF value'''\n",
        "    vif = pd.DataFrame()\n",
        "    vif[\"variables\"] = df.columns\n",
        "    vif = [variance_inflation_factor(df[self].values, i) for i in range(df[self].shape[1])]\n",
        "    return dict(zip(vif[\"variables\"], vif))\n",
        "\n",
        "  #Autocorrelation (Durbin Watson test) and residual normality (Jarque bera test) using OLS summary\n",
        "  def ols_summ(self,df):\n",
        "    '''Ordinary least squares summary'''\n",
        "    X = df[self]\n",
        "    y = df[target_var]\n",
        "    X = sm.add_constant(df[self])\n",
        "    model = sm.OLS(y,X).fit()\n",
        "    resids = model.resid\n",
        "    return model.summary()\n",
        "    print(\"------------------------------------------------------------------------\")\n",
        "    '''Residual normality dsitribution using QQ plot'''   \n",
        "    sm.qqplot(resids, dist=\"norm\", plot=plt)\n",
        "    plt.title(\"Q-Q plot for residual normality distribution\")\n",
        "    return plt.show()\n",
        "\n",
        "  #Homoscedasticity using residual plots  \n",
        "  def resid_plot(self,df):\n",
        "    '''residual plots between numerical features'''\n",
        "    sns.residplot(x=self, y=target_var, data=df, color='green')\n",
        "    plt.xlabel(self)\n",
        "    plt.ylabel(target_var)\n",
        "    return plt.show()  \n",
        "        \n",
        "      \n",
        "class Descrip_stats:\n",
        "    \n",
        "  def __init__(self,target_var):\n",
        "    self.target_var = target_var\n",
        "      \n",
        "  def describe(self,df):\n",
        "    p = df[self].describe()\n",
        "    return p\n",
        "  \n",
        "  #Checking the distributions of numerical variables\n",
        "  def hist(self,df):\n",
        "    '''Histogram for numerical variables'''\n",
        "    df[self].hist()\n",
        "    plt.xlabel(self)\n",
        "    return plt.show()\n",
        "  \n",
        "  #Logarithm transformation \n",
        "  def log_transform(self,df):\n",
        "    '''If numerical variables are not normal, log transformation can make it normal'''\n",
        "    temp = df[df[self] != 0]\n",
        "    temp = temp[self].apply(np.log)\n",
        "    temp.hist()\n",
        "    plt.xlabel(self)\n",
        "    return plt.show()\n",
        "\n",
        "  #Scatter plot        \n",
        "  def lm_plot(self,df):\n",
        "      '''Checking scatter plot of numeric variables with target variable'''\n",
        "      sns.lmplot(x=self, y=target_var, data=df, line_kws={'color': 'red'})\n",
        "      plt.xlabel(self)\n",
        "      plt.ylabel(target_var)\n",
        "      return plt.show()\n",
        "  \n",
        "  #Checking the counts and percentiles of categorical variables\n",
        "  def count_box_plot(self,df):\n",
        "      '''count and box plots of categorical variables'''\n",
        "      sns.set(style=\"darkgrid\")\n",
        "      plt.figure(figsize = (14,6))\n",
        "      plt.subplot(1,2,1)\n",
        "      sns.countplot(x=self, data=df)\n",
        "      plt.xlabel(self)\n",
        "      plt.xticks(rotation=45)\n",
        "      print(\"----------------------------------------------------------------------------------------------------------------\") \n",
        "      plt.subplot(1,2,2)\n",
        "      sns.boxplot(y=target_var, x=self, data=df)\n",
        "      plt.xticks(rotation=45)\n",
        "      return plt.show() \n",
        "          \n",
        "\n",
        "class Feat_engg:\n",
        "  '''=========================================================================================================\n",
        "       We can run models by adding one feature at a time or try different combinations of features to run\n",
        "       the models and consider the features that yields best results (lower MSE). Created different functions\n",
        "       for each feature.\n",
        "     ======================================================================================================='''\n",
        "    \n",
        "  def __init__(self, cats_cols, target_var):\n",
        "    self.cats_cols = cats_cols\n",
        "    self.target_var = target_var\n",
        "        \n",
        "  def group_mean(df):\n",
        "    '''calculates the salary mean grouping categorical columns'''\n",
        "    a = df.groupby(cats_cols).mean()\n",
        "    a = a[target_var].reset_index()\n",
        "    a.rename({target_var: \"group_mean\"}, inplace=True, axis=1)\n",
        "    df = df.merge(a, how = \"left\", on = cats_cols)\n",
        "    return df\n",
        "    \n",
        "  def group_median(df):\n",
        "    '''calculates the salary median grouping categorical columns'''\n",
        "    b = df.groupby(cats_cols).median()\n",
        "    b = b[target_var].reset_index()\n",
        "    b.rename({target_var: \"group_median\"}, inplace=True, axis=1)\n",
        "    df = df.merge(b, how = \"left\", on = cats_cols)\n",
        "    return df\n",
        "  \n",
        "  def group_std(df):\n",
        "    '''calculates the salary standard deviation grouping categorical columns'''\n",
        "    c = df.groupby(cats_cols).std()\n",
        "    c = c[target_var].reset_index()\n",
        "    c.rename({target_var: \"group_std\"}, inplace=True, axis=1)\n",
        "    df = df.merge(c, how = \"left\", on = cats_cols)\n",
        "    return df\n",
        "      \n",
        "  def group_max(df):\n",
        "    '''calculates the salary maximum grouping categorical columns'''\n",
        "    d = df.groupby(cats_cols).max()\n",
        "    d = d[target_var].reset_index()\n",
        "    d.rename({target_var: \"group_max\"}, inplace=True, axis=1)\n",
        "    df = df.merge(d, how = \"left\", on = cats_cols)\n",
        "    return df\n",
        "  \n",
        "  def group_min(df):\n",
        "    '''calculates the salary minimum grouping categorical columns'''\n",
        "    e = df.groupby(cats_cols).min()\n",
        "    e = e[target_var].reset_index()\n",
        "    e.rename({target_var: \"group_min\"}, inplace=True, axis=1)\n",
        "    df = df.merge(e, how = \"left\", on = cats_cols)\n",
        "    return df\n",
        "\n",
        "\n",
        "class Model:\n",
        "\n",
        "  def __init__(self, target_var):\n",
        "    self.target_var = target_var\n",
        "\n",
        "  def train_model(model, feature_df, target_df, num_procs, mean_mse, cv_std ):\n",
        "    neg_mse = cross_val_score(model, feature_df, target_df, cv=5, n_jobs=num_procs, scoring='neg_mean_squared_error')\n",
        "    mean_mse[model] = -1.0*np.mean(neg_mse)\n",
        "    cv_std[model] = np.std(neg_mse)\n",
        "\n",
        "  def test_results(model,X_train, X_test, y_train, y_test ):\n",
        "      model.fit(X_train,y_train)\n",
        "      Test_pred = model.predict(X_test)\n",
        "      Test_MSE[model] = mean_squared_error(y_test,Test_pred)\n",
        "      print('Test MSE:\\n', Test_MSE[model])\n",
        "    \n",
        "  def print_summary(model, mean_mse, cv_std):\n",
        "      print('\\nModel:\\n', model)\n",
        "      print('Average MSE:\\n', mean_mse[model])\n",
        "      print('Standard deviation during CV:\\n', cv_std[model])\n",
        "    \n",
        "  def save_results(model, mean_mse, predictions, feature_importances):\n",
        "      '''saves model, model summary, feature importances, and predictions'''\n",
        "      with open('model.txt', 'w') as file:\n",
        "          file.write(str(model))\n",
        "      feature_importances.to_csv('feature_importances.csv') \n",
        "      np.savetxt('predictions.csv', predictions, delimiter=',')\n"
      ],
      "execution_count": 0,
      "outputs": []
    },
    {
      "cell_type": "code",
      "metadata": {
        "id": "WhB3VPKZbvV7",
        "colab_type": "code",
        "colab": {
          "resources": {
            "http://localhost:8080/nbextensions/google.colab/files.js": {
              "data": "Ly8gQ29weXJpZ2h0IDIwMTcgR29vZ2xlIExMQwovLwovLyBMaWNlbnNlZCB1bmRlciB0aGUgQXBhY2hlIExpY2Vuc2UsIFZlcnNpb24gMi4wICh0aGUgIkxpY2Vuc2UiKTsKLy8geW91IG1heSBub3QgdXNlIHRoaXMgZmlsZSBleGNlcHQgaW4gY29tcGxpYW5jZSB3aXRoIHRoZSBMaWNlbnNlLgovLyBZb3UgbWF5IG9idGFpbiBhIGNvcHkgb2YgdGhlIExpY2Vuc2UgYXQKLy8KLy8gICAgICBodHRwOi8vd3d3LmFwYWNoZS5vcmcvbGljZW5zZXMvTElDRU5TRS0yLjAKLy8KLy8gVW5sZXNzIHJlcXVpcmVkIGJ5IGFwcGxpY2FibGUgbGF3IG9yIGFncmVlZCB0byBpbiB3cml0aW5nLCBzb2Z0d2FyZQovLyBkaXN0cmlidXRlZCB1bmRlciB0aGUgTGljZW5zZSBpcyBkaXN0cmlidXRlZCBvbiBhbiAiQVMgSVMiIEJBU0lTLAovLyBXSVRIT1VUIFdBUlJBTlRJRVMgT1IgQ09ORElUSU9OUyBPRiBBTlkgS0lORCwgZWl0aGVyIGV4cHJlc3Mgb3IgaW1wbGllZC4KLy8gU2VlIHRoZSBMaWNlbnNlIGZvciB0aGUgc3BlY2lmaWMgbGFuZ3VhZ2UgZ292ZXJuaW5nIHBlcm1pc3Npb25zIGFuZAovLyBsaW1pdGF0aW9ucyB1bmRlciB0aGUgTGljZW5zZS4KCi8qKgogKiBAZmlsZW92ZXJ2aWV3IEhlbHBlcnMgZm9yIGdvb2dsZS5jb2xhYiBQeXRob24gbW9kdWxlLgogKi8KKGZ1bmN0aW9uKHNjb3BlKSB7CmZ1bmN0aW9uIHNwYW4odGV4dCwgc3R5bGVBdHRyaWJ1dGVzID0ge30pIHsKICBjb25zdCBlbGVtZW50ID0gZG9jdW1lbnQuY3JlYXRlRWxlbWVudCgnc3BhbicpOwogIGVsZW1lbnQudGV4dENvbnRlbnQgPSB0ZXh0OwogIGZvciAoY29uc3Qga2V5IG9mIE9iamVjdC5rZXlzKHN0eWxlQXR0cmlidXRlcykpIHsKICAgIGVsZW1lbnQuc3R5bGVba2V5XSA9IHN0eWxlQXR0cmlidXRlc1trZXldOwogIH0KICByZXR1cm4gZWxlbWVudDsKfQoKLy8gTWF4IG51bWJlciBvZiBieXRlcyB3aGljaCB3aWxsIGJlIHVwbG9hZGVkIGF0IGEgdGltZS4KY29uc3QgTUFYX1BBWUxPQURfU0laRSA9IDEwMCAqIDEwMjQ7Ci8vIE1heCBhbW91bnQgb2YgdGltZSB0byBibG9jayB3YWl0aW5nIGZvciB0aGUgdXNlci4KY29uc3QgRklMRV9DSEFOR0VfVElNRU9VVF9NUyA9IDMwICogMTAwMDsKCmZ1bmN0aW9uIF91cGxvYWRGaWxlcyhpbnB1dElkLCBvdXRwdXRJZCkgewogIGNvbnN0IHN0ZXBzID0gdXBsb2FkRmlsZXNTdGVwKGlucHV0SWQsIG91dHB1dElkKTsKICBjb25zdCBvdXRwdXRFbGVtZW50ID0gZG9jdW1lbnQuZ2V0RWxlbWVudEJ5SWQob3V0cHV0SWQpOwogIC8vIENhY2hlIHN0ZXBzIG9uIHRoZSBvdXRwdXRFbGVtZW50IHRvIG1ha2UgaXQgYXZhaWxhYmxlIGZvciB0aGUgbmV4dCBjYWxsCiAgLy8gdG8gdXBsb2FkRmlsZXNDb250aW51ZSBmcm9tIFB5dGhvbi4KICBvdXRwdXRFbGVtZW50LnN0ZXBzID0gc3RlcHM7CgogIHJldHVybiBfdXBsb2FkRmlsZXNDb250aW51ZShvdXRwdXRJZCk7Cn0KCi8vIFRoaXMgaXMgcm91Z2hseSBhbiBhc3luYyBnZW5lcmF0b3IgKG5vdCBzdXBwb3J0ZWQgaW4gdGhlIGJyb3dzZXIgeWV0KSwKLy8gd2hlcmUgdGhlcmUgYXJlIG11bHRpcGxlIGFzeW5jaHJvbm91cyBzdGVwcyBhbmQgdGhlIFB5dGhvbiBzaWRlIGlzIGdvaW5nCi8vIHRvIHBvbGwgZm9yIGNvbXBsZXRpb24gb2YgZWFjaCBzdGVwLgovLyBUaGlzIHVzZXMgYSBQcm9taXNlIHRvIGJsb2NrIHRoZSBweXRob24gc2lkZSBvbiBjb21wbGV0aW9uIG9mIGVhY2ggc3RlcCwKLy8gdGhlbiBwYXNzZXMgdGhlIHJlc3VsdCBvZiB0aGUgcHJldmlvdXMgc3RlcCBhcyB0aGUgaW5wdXQgdG8gdGhlIG5leHQgc3RlcC4KZnVuY3Rpb24gX3VwbG9hZEZpbGVzQ29udGludWUob3V0cHV0SWQpIHsKICBjb25zdCBvdXRwdXRFbGVtZW50ID0gZG9jdW1lbnQuZ2V0RWxlbWVudEJ5SWQob3V0cHV0SWQpOwogIGNvbnN0IHN0ZXBzID0gb3V0cHV0RWxlbWVudC5zdGVwczsKCiAgY29uc3QgbmV4dCA9IHN0ZXBzLm5leHQob3V0cHV0RWxlbWVudC5sYXN0UHJvbWlzZVZhbHVlKTsKICByZXR1cm4gUHJvbWlzZS5yZXNvbHZlKG5leHQudmFsdWUucHJvbWlzZSkudGhlbigodmFsdWUpID0+IHsKICAgIC8vIENhY2hlIHRoZSBsYXN0IHByb21pc2UgdmFsdWUgdG8gbWFrZSBpdCBhdmFpbGFibGUgdG8gdGhlIG5leHQKICAgIC8vIHN0ZXAgb2YgdGhlIGdlbmVyYXRvci4KICAgIG91dHB1dEVsZW1lbnQubGFzdFByb21pc2VWYWx1ZSA9IHZhbHVlOwogICAgcmV0dXJuIG5leHQudmFsdWUucmVzcG9uc2U7CiAgfSk7Cn0KCi8qKgogKiBHZW5lcmF0b3IgZnVuY3Rpb24gd2hpY2ggaXMgY2FsbGVkIGJldHdlZW4gZWFjaCBhc3luYyBzdGVwIG9mIHRoZSB1cGxvYWQKICogcHJvY2Vzcy4KICogQHBhcmFtIHtzdHJpbmd9IGlucHV0SWQgRWxlbWVudCBJRCBvZiB0aGUgaW5wdXQgZmlsZSBwaWNrZXIgZWxlbWVudC4KICogQHBhcmFtIHtzdHJpbmd9IG91dHB1dElkIEVsZW1lbnQgSUQgb2YgdGhlIG91dHB1dCBkaXNwbGF5LgogKiBAcmV0dXJuIHshSXRlcmFibGU8IU9iamVjdD59IEl0ZXJhYmxlIG9mIG5leHQgc3RlcHMuCiAqLwpmdW5jdGlvbiogdXBsb2FkRmlsZXNTdGVwKGlucHV0SWQsIG91dHB1dElkKSB7CiAgY29uc3QgaW5wdXRFbGVtZW50ID0gZG9jdW1lbnQuZ2V0RWxlbWVudEJ5SWQoaW5wdXRJZCk7CiAgaW5wdXRFbGVtZW50LmRpc2FibGVkID0gZmFsc2U7CgogIGNvbnN0IG91dHB1dEVsZW1lbnQgPSBkb2N1bWVudC5nZXRFbGVtZW50QnlJZChvdXRwdXRJZCk7CiAgb3V0cHV0RWxlbWVudC5pbm5lckhUTUwgPSAnJzsKCiAgY29uc3QgcGlja2VkUHJvbWlzZSA9IG5ldyBQcm9taXNlKChyZXNvbHZlKSA9PiB7CiAgICBpbnB1dEVsZW1lbnQuYWRkRXZlbnRMaXN0ZW5lcignY2hhbmdlJywgKGUpID0+IHsKICAgICAgcmVzb2x2ZShlLnRhcmdldC5maWxlcyk7CiAgICB9KTsKICB9KTsKCiAgY29uc3QgY2FuY2VsID0gZG9jdW1lbnQuY3JlYXRlRWxlbWVudCgnYnV0dG9uJyk7CiAgaW5wdXRFbGVtZW50LnBhcmVudEVsZW1lbnQuYXBwZW5kQ2hpbGQoY2FuY2VsKTsKICBjYW5jZWwudGV4dENvbnRlbnQgPSAnQ2FuY2VsIHVwbG9hZCc7CiAgY29uc3QgY2FuY2VsUHJvbWlzZSA9IG5ldyBQcm9taXNlKChyZXNvbHZlKSA9PiB7CiAgICBjYW5jZWwub25jbGljayA9ICgpID0+IHsKICAgICAgcmVzb2x2ZShudWxsKTsKICAgIH07CiAgfSk7CgogIC8vIENhbmNlbCB1cGxvYWQgaWYgdXNlciBoYXNuJ3QgcGlja2VkIGFueXRoaW5nIGluIHRpbWVvdXQuCiAgY29uc3QgdGltZW91dFByb21pc2UgPSBuZXcgUHJvbWlzZSgocmVzb2x2ZSkgPT4gewogICAgc2V0VGltZW91dCgoKSA9PiB7CiAgICAgIHJlc29sdmUobnVsbCk7CiAgICB9LCBGSUxFX0NIQU5HRV9USU1FT1VUX01TKTsKICB9KTsKCiAgLy8gV2FpdCBmb3IgdGhlIHVzZXIgdG8gcGljayB0aGUgZmlsZXMuCiAgY29uc3QgZmlsZXMgPSB5aWVsZCB7CiAgICBwcm9taXNlOiBQcm9taXNlLnJhY2UoW3BpY2tlZFByb21pc2UsIHRpbWVvdXRQcm9taXNlLCBjYW5jZWxQcm9taXNlXSksCiAgICByZXNwb25zZTogewogICAgICBhY3Rpb246ICdzdGFydGluZycsCiAgICB9CiAgfTsKCiAgaWYgKCFmaWxlcykgewogICAgcmV0dXJuIHsKICAgICAgcmVzcG9uc2U6IHsKICAgICAgICBhY3Rpb246ICdjb21wbGV0ZScsCiAgICAgIH0KICAgIH07CiAgfQoKICBjYW5jZWwucmVtb3ZlKCk7CgogIC8vIERpc2FibGUgdGhlIGlucHV0IGVsZW1lbnQgc2luY2UgZnVydGhlciBwaWNrcyBhcmUgbm90IGFsbG93ZWQuCiAgaW5wdXRFbGVtZW50LmRpc2FibGVkID0gdHJ1ZTsKCiAgZm9yIChjb25zdCBmaWxlIG9mIGZpbGVzKSB7CiAgICBjb25zdCBsaSA9IGRvY3VtZW50LmNyZWF0ZUVsZW1lbnQoJ2xpJyk7CiAgICBsaS5hcHBlbmQoc3BhbihmaWxlLm5hbWUsIHtmb250V2VpZ2h0OiAnYm9sZCd9KSk7CiAgICBsaS5hcHBlbmQoc3BhbigKICAgICAgICBgKCR7ZmlsZS50eXBlIHx8ICduL2EnfSkgLSAke2ZpbGUuc2l6ZX0gYnl0ZXMsIGAgKwogICAgICAgIGBsYXN0IG1vZGlmaWVkOiAkewogICAgICAgICAgICBmaWxlLmxhc3RNb2RpZmllZERhdGUgPyBmaWxlLmxhc3RNb2RpZmllZERhdGUudG9Mb2NhbGVEYXRlU3RyaW5nKCkgOgogICAgICAgICAgICAgICAgICAgICAgICAgICAgICAgICAgICAnbi9hJ30gLSBgKSk7CiAgICBjb25zdCBwZXJjZW50ID0gc3BhbignMCUgZG9uZScpOwogICAgbGkuYXBwZW5kQ2hpbGQocGVyY2VudCk7CgogICAgb3V0cHV0RWxlbWVudC5hcHBlbmRDaGlsZChsaSk7CgogICAgY29uc3QgZmlsZURhdGFQcm9taXNlID0gbmV3IFByb21pc2UoKHJlc29sdmUpID0+IHsKICAgICAgY29uc3QgcmVhZGVyID0gbmV3IEZpbGVSZWFkZXIoKTsKICAgICAgcmVhZGVyLm9ubG9hZCA9IChlKSA9PiB7CiAgICAgICAgcmVzb2x2ZShlLnRhcmdldC5yZXN1bHQpOwogICAgICB9OwogICAgICByZWFkZXIucmVhZEFzQXJyYXlCdWZmZXIoZmlsZSk7CiAgICB9KTsKICAgIC8vIFdhaXQgZm9yIHRoZSBkYXRhIHRvIGJlIHJlYWR5LgogICAgbGV0IGZpbGVEYXRhID0geWllbGQgewogICAgICBwcm9taXNlOiBmaWxlRGF0YVByb21pc2UsCiAgICAgIHJlc3BvbnNlOiB7CiAgICAgICAgYWN0aW9uOiAnY29udGludWUnLAogICAgICB9CiAgICB9OwoKICAgIC8vIFVzZSBhIGNodW5rZWQgc2VuZGluZyB0byBhdm9pZCBtZXNzYWdlIHNpemUgbGltaXRzLiBTZWUgYi82MjExNTY2MC4KICAgIGxldCBwb3NpdGlvbiA9IDA7CiAgICB3aGlsZSAocG9zaXRpb24gPCBmaWxlRGF0YS5ieXRlTGVuZ3RoKSB7CiAgICAgIGNvbnN0IGxlbmd0aCA9IE1hdGgubWluKGZpbGVEYXRhLmJ5dGVMZW5ndGggLSBwb3NpdGlvbiwgTUFYX1BBWUxPQURfU0laRSk7CiAgICAgIGNvbnN0IGNodW5rID0gbmV3IFVpbnQ4QXJyYXkoZmlsZURhdGEsIHBvc2l0aW9uLCBsZW5ndGgpOwogICAgICBwb3NpdGlvbiArPSBsZW5ndGg7CgogICAgICBjb25zdCBiYXNlNjQgPSBidG9hKFN0cmluZy5mcm9tQ2hhckNvZGUuYXBwbHkobnVsbCwgY2h1bmspKTsKICAgICAgeWllbGQgewogICAgICAgIHJlc3BvbnNlOiB7CiAgICAgICAgICBhY3Rpb246ICdhcHBlbmQnLAogICAgICAgICAgZmlsZTogZmlsZS5uYW1lLAogICAgICAgICAgZGF0YTogYmFzZTY0LAogICAgICAgIH0sCiAgICAgIH07CiAgICAgIHBlcmNlbnQudGV4dENvbnRlbnQgPQogICAgICAgICAgYCR7TWF0aC5yb3VuZCgocG9zaXRpb24gLyBmaWxlRGF0YS5ieXRlTGVuZ3RoKSAqIDEwMCl9JSBkb25lYDsKICAgIH0KICB9CgogIC8vIEFsbCBkb25lLgogIHlpZWxkIHsKICAgIHJlc3BvbnNlOiB7CiAgICAgIGFjdGlvbjogJ2NvbXBsZXRlJywKICAgIH0KICB9Owp9CgpzY29wZS5nb29nbGUgPSBzY29wZS5nb29nbGUgfHwge307CnNjb3BlLmdvb2dsZS5jb2xhYiA9IHNjb3BlLmdvb2dsZS5jb2xhYiB8fCB7fTsKc2NvcGUuZ29vZ2xlLmNvbGFiLl9maWxlcyA9IHsKICBfdXBsb2FkRmlsZXMsCiAgX3VwbG9hZEZpbGVzQ29udGludWUsCn07Cn0pKHNlbGYpOwo=",
              "ok": true,
              "headers": [
                [
                  "content-type",
                  "application/javascript"
                ]
              ],
              "status": 200,
              "status_text": ""
            }
          },
          "base_uri": "https://localhost:8080/",
          "height": 140
        },
        "outputId": "1cb2764a-8022-495a-88d6-7d841a6898db"
      },
      "source": [
        "if __name__ == '__main__':\n",
        "  from google.colab import files\n",
        "  uploaded = files.upload()\n"
      ],
      "execution_count": 8,
      "outputs": [
        {
          "output_type": "display_data",
          "data": {
            "text/html": [
              "\n",
              "     <input type=\"file\" id=\"files-3632f142-faea-494e-ad27-436c1f2cef51\" name=\"files[]\" multiple disabled />\n",
              "     <output id=\"result-3632f142-faea-494e-ad27-436c1f2cef51\">\n",
              "      Upload widget is only available when the cell has been executed in the\n",
              "      current browser session. Please rerun this cell to enable.\n",
              "      </output>\n",
              "      <script src=\"/nbextensions/google.colab/files.js\"></script> "
            ],
            "text/plain": [
              "<IPython.core.display.HTML object>"
            ]
          },
          "metadata": {
            "tags": []
          }
        },
        {
          "output_type": "stream",
          "text": [
            "Saving test_features.csv to test_features.csv\n",
            "Saving train_features.csv to train_features.csv\n",
            "Saving train_salaries.csv to train_salaries.csv\n"
          ],
          "name": "stdout"
        }
      ]
    },
    {
      "cell_type": "markdown",
      "metadata": {
        "id": "xZwRTD2kj7ND",
        "colab_type": "text"
      },
      "source": [
        "#2. DISCOVER THE DATA"
      ]
    },
    {
      "cell_type": "code",
      "metadata": {
        "id": "VX0KA3KudC0n",
        "colab_type": "code",
        "colab": {
          "base_uri": "https://localhost:8080/",
          "height": 33
        },
        "outputId": "19ed8384-3430-4353-e465-639f502baf2e"
      },
      "source": [
        "  train_feature_file = 'train_features.csv'\n",
        "  train_target_file = 'train_salaries.csv'\n",
        "  test_feature_file = 'test_features.csv'\n",
        "\n",
        "  #define target variable\n",
        "  target_var = 'salary'\n",
        "\n",
        "  #load data\n",
        "  print(\"Loading data\")\n",
        "  feature_df = Data.load_file(train_feature_file)\n",
        "  target_df = Data.load_file(train_target_file)\n",
        "  test_df = Data.load_file(test_feature_file)"
      ],
      "execution_count": 9,
      "outputs": [
        {
          "output_type": "stream",
          "text": [
            "Loading data\n"
          ],
          "name": "stdout"
        }
      ]
    },
    {
      "cell_type": "code",
      "metadata": {
        "id": "FOS33MTybEbK",
        "colab_type": "code",
        "colab": {}
      },
      "source": [
        "  #consolidate training data\n",
        "  raw_train_df = Data.consolidate_data(feature_df, target_df, key='jobId')\n",
        "    "
      ],
      "execution_count": 0,
      "outputs": []
    },
    {
      "cell_type": "markdown",
      "metadata": {
        "id": "5ZyxmbR5kQLq",
        "colab_type": "text"
      },
      "source": [
        ""
      ]
    },
    {
      "cell_type": "code",
      "metadata": {
        "id": "ypIDdHtPsxtd",
        "colab_type": "code",
        "colab": {
          "base_uri": "https://localhost:8080/",
          "height": 250
        },
        "outputId": "1f01aec3-ade1-4056-8d5c-b5fc866844cf"
      },
      "source": [
        "  #dataframe length and dtypes \n",
        "  Data.data_info(raw_train_df)"
      ],
      "execution_count": 11,
      "outputs": [
        {
          "output_type": "stream",
          "text": [
            "<class 'pandas.core.frame.DataFrame'>\n",
            "Int64Index: 1000000 entries, 0 to 999999\n",
            "Data columns (total 9 columns):\n",
            "jobId                  1000000 non-null object\n",
            "companyId              1000000 non-null object\n",
            "jobType                1000000 non-null object\n",
            "degree                 1000000 non-null object\n",
            "major                  1000000 non-null object\n",
            "industry               1000000 non-null object\n",
            "yearsExperience        1000000 non-null int64\n",
            "milesFromMetropolis    1000000 non-null int64\n",
            "salary                 1000000 non-null int64\n",
            "dtypes: int64(3), object(6)\n",
            "memory usage: 76.3+ MB\n"
          ],
          "name": "stdout"
        }
      ]
    },
    {
      "cell_type": "code",
      "metadata": {
        "id": "tjtdPOlpsqsP",
        "colab_type": "code",
        "colab": {
          "base_uri": "https://localhost:8080/",
          "height": 33
        },
        "outputId": "c55fb605-cc68-4b1c-cb00-419f3d70f542"
      },
      "source": [
        "  #identify categorical columns\n",
        "  cats_cols = Data.categorical_cols(raw_train_df)\n",
        "  cats_cols.remove('jobId')\n",
        "  print(cats_cols)  "
      ],
      "execution_count": 12,
      "outputs": [
        {
          "output_type": "stream",
          "text": [
            "['companyId', 'jobType', 'degree', 'major', 'industry']\n"
          ],
          "name": "stdout"
        }
      ]
    },
    {
      "cell_type": "code",
      "metadata": {
        "id": "wjduZEl0tFq3",
        "colab_type": "code",
        "colab": {
          "base_uri": "https://localhost:8080/",
          "height": 33
        },
        "outputId": "2c641771-9398-47ec-f300-253b0703ef85"
      },
      "source": [
        "  #identify numerical columns\n",
        "  nums_cols = Data.numerical_cols(raw_train_df)\n",
        "  print(nums_cols)"
      ],
      "execution_count": 13,
      "outputs": [
        {
          "output_type": "stream",
          "text": [
            "['yearsExperience', 'milesFromMetropolis', 'salary']\n"
          ],
          "name": "stdout"
        }
      ]
    },
    {
      "cell_type": "code",
      "metadata": {
        "id": "Gfnrq1-etMy6",
        "colab_type": "code",
        "colab": {
          "base_uri": "https://localhost:8080/",
          "height": 183
        },
        "outputId": "0571a31b-4933-4b60-cd1a-fb11cadf2de7"
      },
      "source": [
        "  #check missing value percentage\n",
        "  Data.missing_data(raw_train_df)\n",
        "    "
      ],
      "execution_count": 14,
      "outputs": [
        {
          "output_type": "execute_result",
          "data": {
            "text/plain": [
              "jobId                  0.0\n",
              "companyId              0.0\n",
              "jobType                0.0\n",
              "degree                 0.0\n",
              "major                  0.0\n",
              "industry               0.0\n",
              "yearsExperience        0.0\n",
              "milesFromMetropolis    0.0\n",
              "salary                 0.0\n",
              "dtype: float64"
            ]
          },
          "metadata": {
            "tags": []
          },
          "execution_count": 14
        }
      ]
    },
    {
      "cell_type": "code",
      "metadata": {
        "id": "kderCFn3kfh_",
        "colab_type": "code",
        "colab": {}
      },
      "source": [
        "raw_train_df['salary'].describe()"
      ],
      "execution_count": 0,
      "outputs": []
    },
    {
      "cell_type": "markdown",
      "metadata": {
        "id": "SfNp7QhZl_Xm",
        "colab_type": "text"
      },
      "source": [
        "Dependent variable Salary column has 0 salaries which needs to be removed."
      ]
    },
    {
      "cell_type": "code",
      "metadata": {
        "id": "K406JWu0tRm9",
        "colab_type": "code",
        "colab": {
          "base_uri": "https://localhost:8080/",
          "height": 250
        },
        "outputId": "3e9bc338-5724-4bf0-b5ea-c2bffa0f922d"
      },
      "source": [
        "  #check potential outliers\n",
        "  Data.potential_outlier(raw_train_df)"
      ],
      "execution_count": 15,
      "outputs": [
        {
          "output_type": "stream",
          "text": [
            "stat:\t count    1000000.000000\n",
            "mean         116.061818\n",
            "std           38.717936\n",
            "min            0.000000\n",
            "25%           88.000000\n",
            "50%          114.000000\n",
            "75%          141.000000\n",
            "max          301.000000\n",
            "Name: salary, dtype: float64\n",
            "-----------------------------------------------------\n",
            "IQR:\t 53.0\n",
            "upper:\t 220.5\n",
            "lower:\t 8.5\n",
            "The upper and lower bounds for suspected outliers are 220.5 and 8.5.\n"
          ],
          "name": "stdout"
        }
      ]
    },
    {
      "cell_type": "markdown",
      "metadata": {
        "id": "GcWqYJ9fmYKB",
        "colab_type": "text"
      },
      "source": [
        "Examining the potential outliers."
      ]
    },
    {
      "cell_type": "code",
      "metadata": {
        "id": "rt1P43XIotQd",
        "colab_type": "code",
        "colab": {
          "base_uri": "https://localhost:8080/",
          "height": 150
        },
        "outputId": "ca304c00-dffe-4a8f-ca92-d52f5dd70ba5"
      },
      "source": [
        "raw_train_df[raw_train_df.salary > 220.5]['jobType'].value_counts()"
      ],
      "execution_count": 16,
      "outputs": [
        {
          "output_type": "execute_result",
          "data": {
            "text/plain": [
              "CEO               3227\n",
              "CFO               1496\n",
              "CTO               1488\n",
              "VICE_PRESIDENT     603\n",
              "MANAGER            217\n",
              "SENIOR              66\n",
              "JUNIOR              20\n",
              "Name: jobType, dtype: int64"
            ]
          },
          "metadata": {
            "tags": []
          },
          "execution_count": 16
        }
      ]
    },
    {
      "cell_type": "markdown",
      "metadata": {
        "id": "OvQJp_-vmiar",
        "colab_type": "text"
      },
      "source": [
        "All the C level executives have salaries above 220.5k as expected but there are some Junior positions having salaries >220k. Let's check from which industries, Junior positions have above 220k salaries"
      ]
    },
    {
      "cell_type": "code",
      "metadata": {
        "id": "efMeQ-i2o6bF",
        "colab_type": "code",
        "colab": {
          "base_uri": "https://localhost:8080/",
          "height": 83
        },
        "outputId": "9fb6ffdf-0e54-45e4-fb69-2733a3a3626c"
      },
      "source": [
        "raw_train_df[(raw_train_df.salary > 220.5) & (raw_train_df.jobType == 'JUNIOR')].industry.value_counts()"
      ],
      "execution_count": 18,
      "outputs": [
        {
          "output_type": "execute_result",
          "data": {
            "text/plain": [
              "OIL        11\n",
              "FINANCE     8\n",
              "WEB         1\n",
              "Name: industry, dtype: int64"
            ]
          },
          "metadata": {
            "tags": []
          },
          "execution_count": 18
        }
      ]
    },
    {
      "cell_type": "markdown",
      "metadata": {
        "id": "SGORIuo6m_Bd",
        "colab_type": "text"
      },
      "source": [
        "Oil and finance industries are known for higher salaries so this data looks legitimate.\n",
        "\n",
        "Let's look at employees who have less than 8k salaries"
      ]
    },
    {
      "cell_type": "code",
      "metadata": {
        "id": "d4DCBYxApJb4",
        "colab_type": "code",
        "colab": {
          "base_uri": "https://localhost:8080/",
          "height": 100
        },
        "outputId": "d6a66331-478d-4863-e586-242af8ba53ac"
      },
      "source": [
        "raw_train_df[raw_train_df.salary < 8.5].jobType.value_counts()"
      ],
      "execution_count": 19,
      "outputs": [
        {
          "output_type": "execute_result",
          "data": {
            "text/plain": [
              "JUNIOR            2\n",
              "CTO               1\n",
              "MANAGER           1\n",
              "VICE_PRESIDENT    1\n",
              "Name: jobType, dtype: int64"
            ]
          },
          "metadata": {
            "tags": []
          },
          "execution_count": 19
        }
      ]
    },
    {
      "cell_type": "markdown",
      "metadata": {
        "id": "6ve-Wf2GnL7D",
        "colab_type": "text"
      },
      "source": [
        "This looks weird, it might have got recorded mistakenly. Let's remove the data!"
      ]
    },
    {
      "cell_type": "code",
      "metadata": {
        "id": "bkPFIRIYtXKS",
        "colab_type": "code",
        "colab": {
          "base_uri": "https://localhost:8080/",
          "height": 200
        },
        "outputId": "338174d9-021f-4ef2-933f-06abc123060f"
      },
      "source": [
        "  #cleaning the data, removing records below lower band\n",
        "  clean_df = Data.clean_data(raw_train_df)"
      ],
      "execution_count": 24,
      "outputs": [
        {
          "output_type": "stream",
          "text": [
            "---------------------------------------------------------------------\n",
            "There are 0 duplicate rows that have been removed\n",
            "---------------------------------------------------------------------\n",
            "                   jobId companyId  ... milesFromMetropolis salary\n",
            "30559   JOB1362684438246    COMP44  ...                   7      0\n",
            "495984  JOB1362684903671    COMP34  ...                  25      0\n",
            "652076  JOB1362685059763    COMP25  ...                  60      0\n",
            "816129  JOB1362685223816    COMP42  ...                   6      0\n",
            "828156  JOB1362685235843    COMP40  ...                  29      0\n",
            "\n",
            "[5 rows x 9 columns] rows that contain salary <=8.5 have been removed\n"
          ],
          "name": "stdout"
        }
      ]
    },
    {
      "cell_type": "code",
      "metadata": {
        "id": "8df4-JdktbAx",
        "colab_type": "code",
        "colab": {
          "base_uri": "https://localhost:8080/",
          "height": 183
        },
        "outputId": "246fbd15-3b48-4034-ec77-7a89c1a2a666"
      },
      "source": [
        "  #changing dtype from object to category\n",
        "  Data.obj_to_cat(clean_df)"
      ],
      "execution_count": 27,
      "outputs": [
        {
          "output_type": "execute_result",
          "data": {
            "text/plain": [
              "jobId                    object\n",
              "companyId              category\n",
              "jobType                category\n",
              "degree                 category\n",
              "major                  category\n",
              "industry               category\n",
              "yearsExperience           int64\n",
              "milesFromMetropolis       int64\n",
              "salary                    int64\n",
              "dtype: object"
            ]
          },
          "metadata": {
            "tags": []
          },
          "execution_count": 27
        }
      ]
    },
    {
      "cell_type": "markdown",
      "metadata": {
        "id": "EpTRXwW0nlhf",
        "colab_type": "text"
      },
      "source": [
        "As most of the variables are categorical, we cannot check the correlations between variables. Hence doing the mean label encoding to check correlations if there is dependence between independent variables"
      ]
    },
    {
      "cell_type": "code",
      "metadata": {
        "id": "JISSAl6vtfU6",
        "colab_type": "code",
        "colab": {}
      },
      "source": [
        "  #label encoding  with mean salary to check the correlations\n",
        "  label_df = clean_df.copy()\n",
        "  for col in label_df.columns:\n",
        "      if label_df[col].dtype.name == 'category':\n",
        "          Data.label_encode(label_df,col)"
      ],
      "execution_count": 0,
      "outputs": []
    },
    {
      "cell_type": "code",
      "metadata": {
        "id": "Ic2eDwt2vJ2D",
        "colab_type": "code",
        "colab": {
          "base_uri": "https://localhost:8080/",
          "height": 197
        },
        "outputId": "5ad1ba8e-4ee2-4e00-df9e-d51ea5a7093c"
      },
      "source": [
        "  label_df.head(5)"
      ],
      "execution_count": 29,
      "outputs": [
        {
          "output_type": "execute_result",
          "data": {
            "text/html": [
              "<div>\n",
              "<style scoped>\n",
              "    .dataframe tbody tr th:only-of-type {\n",
              "        vertical-align: middle;\n",
              "    }\n",
              "\n",
              "    .dataframe tbody tr th {\n",
              "        vertical-align: top;\n",
              "    }\n",
              "\n",
              "    .dataframe thead th {\n",
              "        text-align: right;\n",
              "    }\n",
              "</style>\n",
              "<table border=\"1\" class=\"dataframe\">\n",
              "  <thead>\n",
              "    <tr style=\"text-align: right;\">\n",
              "      <th></th>\n",
              "      <th>jobId</th>\n",
              "      <th>companyId</th>\n",
              "      <th>jobType</th>\n",
              "      <th>degree</th>\n",
              "      <th>major</th>\n",
              "      <th>industry</th>\n",
              "      <th>yearsExperience</th>\n",
              "      <th>milesFromMetropolis</th>\n",
              "      <th>salary</th>\n",
              "    </tr>\n",
              "  </thead>\n",
              "  <tbody>\n",
              "    <tr>\n",
              "      <th>0</th>\n",
              "      <td>JOB1362684407687</td>\n",
              "      <td>115.345049</td>\n",
              "      <td>135.458547</td>\n",
              "      <td>130.505647</td>\n",
              "      <td>133.322042</td>\n",
              "      <td>115.735540</td>\n",
              "      <td>10</td>\n",
              "      <td>83</td>\n",
              "      <td>130</td>\n",
              "    </tr>\n",
              "    <tr>\n",
              "      <th>1</th>\n",
              "      <td>JOB1362684407688</td>\n",
              "      <td>115.756548</td>\n",
              "      <td>145.311425</td>\n",
              "      <td>101.921085</td>\n",
              "      <td>102.583864</td>\n",
              "      <td>121.645362</td>\n",
              "      <td>3</td>\n",
              "      <td>73</td>\n",
              "      <td>101</td>\n",
              "    </tr>\n",
              "    <tr>\n",
              "      <th>2</th>\n",
              "      <td>JOB1362684407689</td>\n",
              "      <td>116.224249</td>\n",
              "      <td>125.368630</td>\n",
              "      <td>135.490979</td>\n",
              "      <td>130.372436</td>\n",
              "      <td>115.735540</td>\n",
              "      <td>10</td>\n",
              "      <td>38</td>\n",
              "      <td>137</td>\n",
              "    </tr>\n",
              "    <tr>\n",
              "      <th>3</th>\n",
              "      <td>JOB1362684407690</td>\n",
              "      <td>116.199380</td>\n",
              "      <td>115.368518</td>\n",
              "      <td>135.490979</td>\n",
              "      <td>129.072085</td>\n",
              "      <td>109.435222</td>\n",
              "      <td>8</td>\n",
              "      <td>17</td>\n",
              "      <td>142</td>\n",
              "    </tr>\n",
              "    <tr>\n",
              "      <th>4</th>\n",
              "      <td>JOB1362684407691</td>\n",
              "      <td>115.888501</td>\n",
              "      <td>125.368630</td>\n",
              "      <td>125.454663</td>\n",
              "      <td>130.372436</td>\n",
              "      <td>130.747659</td>\n",
              "      <td>8</td>\n",
              "      <td>16</td>\n",
              "      <td>163</td>\n",
              "    </tr>\n",
              "  </tbody>\n",
              "</table>\n",
              "</div>"
            ],
            "text/plain": [
              "              jobId   companyId  ... milesFromMetropolis salary\n",
              "0  JOB1362684407687  115.345049  ...                  83    130\n",
              "1  JOB1362684407688  115.756548  ...                  73    101\n",
              "2  JOB1362684407689  116.224249  ...                  38    137\n",
              "3  JOB1362684407690  116.199380  ...                  17    142\n",
              "4  JOB1362684407691  115.888501  ...                  16    163\n",
              "\n",
              "[5 rows x 9 columns]"
            ]
          },
          "metadata": {
            "tags": []
          },
          "execution_count": 29
        }
      ]
    },
    {
      "cell_type": "markdown",
      "metadata": {
        "id": "54YMrxgmoAOY",
        "colab_type": "text"
      },
      "source": [
        "Now the converting the datatypes of categorical features to numerical"
      ]
    },
    {
      "cell_type": "code",
      "metadata": {
        "id": "hv0-ugDRakkc",
        "colab_type": "code",
        "colab": {
          "base_uri": "https://localhost:8080/",
          "height": 183
        },
        "outputId": "929c5911-9ce1-4bf9-ddbb-92817f9d4f04"
      },
      "source": [
        "#converting the datatypes to int to get correlation matrix\n",
        "for v in cats_cols:\n",
        "  label_df[v] = label_df[v].astype(int)\n",
        "label_df.dtypes"
      ],
      "execution_count": 31,
      "outputs": [
        {
          "output_type": "execute_result",
          "data": {
            "text/plain": [
              "jobId                  object\n",
              "companyId               int64\n",
              "jobType                 int64\n",
              "degree                  int64\n",
              "major                   int64\n",
              "industry                int64\n",
              "yearsExperience         int64\n",
              "milesFromMetropolis     int64\n",
              "salary                  int64\n",
              "dtype: object"
            ]
          },
          "metadata": {
            "tags": []
          },
          "execution_count": 31
        }
      ]
    },
    {
      "cell_type": "markdown",
      "metadata": {
        "id": "dt5lbXOtrybZ",
        "colab_type": "text"
      },
      "source": [
        "#Descriptive Statistics"
      ]
    },
    {
      "cell_type": "code",
      "metadata": {
        "id": "BnG-YrxXtoyM",
        "colab_type": "code",
        "colab": {
          "base_uri": "https://localhost:8080/",
          "height": 387
        },
        "outputId": "ee4f6227-4bb7-4430-8def-e45afcc31e5a"
      },
      "source": [
        "    #target variable distribution\n",
        "    Regr_assump.target_dist(clean_df)"
      ],
      "execution_count": 32,
      "outputs": [
        {
          "output_type": "display_data",
          "data": {
            "image/png": "[encoded data removed]",
            "text/plain": [
              "<Figure size 1008x432 with 2 Axes>"
            ]
          },
          "metadata": {
            "tags": []
          }
        }
      ]
    },
    {
      "cell_type": "markdown",
      "metadata": {
        "id": "858q90Wh1JW5",
        "colab_type": "text"
      },
      "source": [
        "Target variable \"salary\" is normally distributed which is the one of the assumptions of Regression"
      ]
    },
    {
      "cell_type": "code",
      "metadata": {
        "id": "QG5LQBM-t3ag",
        "colab_type": "code",
        "colab": {
          "base_uri": "https://localhost:8080/",
          "height": 665
        },
        "outputId": "4f11e767-b283-4257-a979-dd3ad3b8943b"
      },
      "source": [
        "    #correlation matrix using heatmap\n",
        "    features = ['yearsExperience', 'milesFromMetropolis','companyId', \n",
        "                'jobType', 'degree', 'major', 'industry']\n",
        "    Regr_assump.correlation(features,label_df) "
      ],
      "execution_count": 33,
      "outputs": [
        {
          "output_type": "display_data",
          "data": {
            "image/png": "[encoded data removed]",
            "text/plain": [
              "<Figure size 864x720 with 2 Axes>"
            ]
          },
          "metadata": {
            "tags": []
          }
        }
      ]
    },
    {
      "cell_type": "markdown",
      "metadata": {
        "id": "VJIazaEU4BM4",
        "colab_type": "text"
      },
      "source": [
        "From the correlation matrix, it is evident that degree and major are correlated with pearson's coefficient of 0.85"
      ]
    },
    {
      "cell_type": "code",
      "metadata": {
        "colab_type": "code",
        "outputId": "81907cad-34cb-4998-b9a4-8781629e9443",
        "id": "f7RF1wgdzc83",
        "colab": {
          "base_uri": "https://localhost:8080/",
          "height": 166
        }
      },
      "source": [
        "  #Describe numerical columns\n",
        "  Descrip_stats.describe('yearsExperience',clean_df)"
      ],
      "execution_count": 49,
      "outputs": [
        {
          "output_type": "execute_result",
          "data": {
            "text/plain": [
              "count    999995.000000\n",
              "mean         11.992407\n",
              "std           7.212390\n",
              "min           0.000000\n",
              "25%           6.000000\n",
              "50%          12.000000\n",
              "75%          18.000000\n",
              "max          24.000000\n",
              "Name: yearsExperience, dtype: float64"
            ]
          },
          "metadata": {
            "tags": []
          },
          "execution_count": 49
        }
      ]
    },
    {
      "cell_type": "code",
      "metadata": {
        "id": "vzzGNlNo3LpA",
        "colab_type": "code",
        "colab": {
          "base_uri": "https://localhost:8080/",
          "height": 166
        },
        "outputId": "136d0bc2-7a65-434d-868b-0ee9acc91522"
      },
      "source": [
        " Descrip_stats.describe('milesFromMetropolis',clean_df)"
      ],
      "execution_count": 48,
      "outputs": [
        {
          "output_type": "execute_result",
          "data": {
            "text/plain": [
              "count    999995.000000\n",
              "mean         49.529381\n",
              "std          28.877721\n",
              "min           0.000000\n",
              "25%          25.000000\n",
              "50%          50.000000\n",
              "75%          75.000000\n",
              "max          99.000000\n",
              "Name: milesFromMetropolis, dtype: float64"
            ]
          },
          "metadata": {
            "tags": []
          },
          "execution_count": 48
        }
      ]
    },
    {
      "cell_type": "code",
      "metadata": {
        "id": "CGwmX4WJyhG5",
        "colab_type": "code",
        "colab": {
          "base_uri": "https://localhost:8080/",
          "height": 541
        },
        "outputId": "f79b6fc0-8aa7-4cb9-f32a-f4bef7de4e46"
      },
      "source": [
        "  #Histogram for numerical columns\n",
        "  Descrip_stats.hist('yearsExperience',clean_df)\n",
        "  Descrip_stats.hist('milesFromMetropolis',clean_df)"
      ],
      "execution_count": 50,
      "outputs": [
        {
          "output_type": "display_data",
          "data": {
            "image/png": "[encoded data removed]",
            "text/plain": [
              "<Figure size 432x288 with 1 Axes>"
            ]
          },
          "metadata": {
            "tags": []
          }
        },
        {
          "output_type": "display_data",
          "data": {
            "image/png": "[encoded data removed]",
            "text/plain": [
              "<Figure size 432x288 with 1 Axes>"
            ]
          },
          "metadata": {
            "tags": []
          }
        }
      ]
    },
    {
      "cell_type": "markdown",
      "metadata": {
        "id": "zp7hPvltk9T-",
        "colab_type": "text"
      },
      "source": [
        "The distributions of histograms are quite weird but as the years of experience and miles from metropolis numbers cannot be negative. Hence the distributions need not be normal, hence not transforming the numerical variables"
      ]
    },
    {
      "cell_type": "code",
      "metadata": {
        "id": "OYWLJryAz2fs",
        "colab_type": "code",
        "colab": {
          "base_uri": "https://localhost:8080/",
          "height": 713
        },
        "outputId": "43c995f1-dbb2-4afd-8fe2-96baa3e863f8"
      },
      "source": [
        "  #linear plots of numerical variables with target variable\n",
        "  Descrip_stats.lm_plot('yearsExperience',clean_df)\n",
        "  Descrip_stats.lm_plot('milesFromMetropolis',clean_df)"
      ],
      "execution_count": 62,
      "outputs": [
        {
          "output_type": "display_data",
          "data": {
            "image/png": "[encoded data removed]",
            "text/plain": [
              "<Figure size 360x360 with 1 Axes>"
            ]
          },
          "metadata": {
            "tags": []
          }
        },
        {
          "output_type": "display_data",
          "data": {
            "image/png": "[encoded data removed]",
            "text/plain": [
              "<Figure size 360x360 with 1 Axes>"
            ]
          },
          "metadata": {
            "tags": []
          }
        }
      ]
    },
    {
      "cell_type": "markdown",
      "metadata": {
        "id": "MufROyNG9F7R",
        "colab_type": "text"
      },
      "source": [
        "As already we have seen from the correlation matrix that the co-efficient of correlation between years of experience and salary is 0.38 and between milles from metropolis and salary is -0.3. Now from the linear plots it is evident that \n",
        "\n",
        "\n",
        "1.   Years of experience is linearly related to Salary (As YoE increases Salary increases)\n",
        "2.   Miles from metropolis is non-linearly related to Salary (As MfM increases Salary decreases)\n",
        "\n"
      ]
    },
    {
      "cell_type": "code",
      "metadata": {
        "id": "1AjUPcFB0RCg",
        "colab_type": "code",
        "colab": {
          "base_uri": "https://localhost:8080/",
          "height": 1000
        },
        "outputId": "6732f36f-72a2-4c1f-9022-3988cfc97b84"
      },
      "source": [
        "  #count and box plots of selected variables\n",
        "  features = ['industry','major','degree','jobType']\n",
        "  for feat in features:\n",
        "      Descrip_stats.count_box_plot(feat,clean_df)"
      ],
      "execution_count": 67,
      "outputs": [
        {
          "output_type": "stream",
          "text": [
            "----------------------------------------------------------------------------------------------------------------\n"
          ],
          "name": "stdout"
        },
        {
          "output_type": "display_data",
          "data": {
            "image/png": "[encoded data removed]",
            "text/plain": [
              "<Figure size 1008x432 with 2 Axes>"
            ]
          },
          "metadata": {
            "tags": []
          }
        },
        {
          "output_type": "stream",
          "text": [
            "----------------------------------------------------------------------------------------------------------------\n"
          ],
          "name": "stdout"
        },
        {
          "output_type": "display_data",
          "data": {
            "image/png": "[encoded data removed]",
            "text/plain": [
              "<Figure size 1008x432 with 2 Axes>"
            ]
          },
          "metadata": {
            "tags": []
          }
        },
        {
          "output_type": "stream",
          "text": [
            "----------------------------------------------------------------------------------------------------------------\n"
          ],
          "name": "stdout"
        },
        {
          "output_type": "display_data",
          "data": {
            "image/png": "[encoded data removed]",
            "text/plain": [
              "<Figure size 1008x432 with 2 Axes>"
            ]
          },
          "metadata": {
            "tags": []
          }
        },
        {
          "output_type": "stream",
          "text": [
            "----------------------------------------------------------------------------------------------------------------\n"
          ],
          "name": "stdout"
        },
        {
          "output_type": "display_data",
          "data": {
            "image/png": "[encoded data removed]",
            "text/plain": [
              "<Figure size 1008x432 with 2 Axes>"
            ]
          },
          "metadata": {
            "tags": []
          }
        }
      ]
    },
    {
      "cell_type": "markdown",
      "metadata": {
        "id": "WZjNUaxrrARi",
        "colab_type": "text"
      },
      "source": [
        "The count of employees who have their degree \"None\" is pretty high but we can't just interpret those employees doesn't have a degree. This is a good example of data collection is done improperly or mistakes are made in data entry."
      ]
    },
    {
      "cell_type": "markdown",
      "metadata": {
        "id": "FgZ6hCWgqq3L",
        "colab_type": "text"
      },
      "source": [
        "#3. DEVELOP "
      ]
    },
    {
      "cell_type": "markdown",
      "metadata": {
        "id": "oyC7kkPa7msY",
        "colab_type": "text"
      },
      "source": [
        "#Feature Engineering\n"
      ]
    },
    {
      "cell_type": "markdown",
      "metadata": {
        "id": "05Dt8MgNsji3",
        "colab_type": "text"
      },
      "source": [
        "Creating new features grouping categorical variables for better results during modeling "
      ]
    },
    {
      "cell_type": "code",
      "metadata": {
        "id": "zJRZHxdZ6s9K",
        "colab_type": "code",
        "colab": {}
      },
      "source": [
        "  #Creating new features such as salary mean, median, std, max, min\n",
        "  clean_mean = Feat_engg.group_mean(clean_df)\n",
        "  clean_med_mean = Feat_engg.group_median(clean_mean)\n",
        "  clean_med_mean_std = Feat_engg.group_std(clean_med_mean)  \n",
        "  clean_med_mean_std_max = Feat_engg.group_max(clean_med_mean_std)  \n",
        "  clean_feats = Feat_engg.group_min(clean_med_mean_std_max)"
      ],
      "execution_count": 0,
      "outputs": []
    },
    {
      "cell_type": "code",
      "metadata": {
        "id": "h61KOmqe88U7",
        "colab_type": "code",
        "colab": {
          "base_uri": "https://localhost:8080/",
          "height": 333
        },
        "outputId": "f12c7564-07e1-418c-e2d8-9fba28cb61d9"
      },
      "source": [
        "  Data.data_info(clean_feats)"
      ],
      "execution_count": 69,
      "outputs": [
        {
          "output_type": "stream",
          "text": [
            "<class 'pandas.core.frame.DataFrame'>\n",
            "Int64Index: 999995 entries, 0 to 999994\n",
            "Data columns (total 14 columns):\n",
            "jobId                  999995 non-null object\n",
            "companyId              999995 non-null category\n",
            "jobType                999995 non-null category\n",
            "degree                 999995 non-null category\n",
            "major                  999995 non-null category\n",
            "industry               999995 non-null category\n",
            "yearsExperience        999995 non-null int64\n",
            "milesFromMetropolis    999995 non-null int64\n",
            "salary                 999995 non-null int64\n",
            "group_mean             999995 non-null float64\n",
            "group_median           999995 non-null float64\n",
            "group_std              999074 non-null float64\n",
            "group_max              999995 non-null float64\n",
            "group_min              999995 non-null float64\n",
            "dtypes: category(5), float64(5), int64(3), object(1)\n",
            "memory usage: 81.1+ MB\n"
          ],
          "name": "stdout"
        }
      ]
    },
    {
      "cell_type": "markdown",
      "metadata": {
        "id": "xnou0eGw__4h",
        "colab_type": "text"
      },
      "source": [
        "\"group_std\" variable has missing values, hence replacing the null values with 0"
      ]
    },
    {
      "cell_type": "code",
      "metadata": {
        "id": "api4asps9G-u",
        "colab_type": "code",
        "colab": {
          "base_uri": "https://localhost:8080/",
          "height": 333
        },
        "outputId": "a3501eb0-ee9e-4921-d020-73370c517a59"
      },
      "source": [
        "  #imputing missing values of standard deviation with 0 as the percentage is very small\n",
        "  clean_feats['group_std'] = clean_feats['group_std'].fillna(0)\n",
        "  Data.data_info(clean_feats)"
      ],
      "execution_count": 71,
      "outputs": [
        {
          "output_type": "stream",
          "text": [
            "<class 'pandas.core.frame.DataFrame'>\n",
            "Int64Index: 999995 entries, 0 to 999994\n",
            "Data columns (total 14 columns):\n",
            "jobId                  999995 non-null object\n",
            "companyId              999995 non-null category\n",
            "jobType                999995 non-null category\n",
            "degree                 999995 non-null category\n",
            "major                  999995 non-null category\n",
            "industry               999995 non-null category\n",
            "yearsExperience        999995 non-null int64\n",
            "milesFromMetropolis    999995 non-null int64\n",
            "salary                 999995 non-null int64\n",
            "group_mean             999995 non-null float64\n",
            "group_median           999995 non-null float64\n",
            "group_std              999995 non-null float64\n",
            "group_max              999995 non-null float64\n",
            "group_min              999995 non-null float64\n",
            "dtypes: category(5), float64(5), int64(3), object(1)\n",
            "memory usage: 81.1+ MB\n"
          ],
          "name": "stdout"
        }
      ]
    },
    {
      "cell_type": "code",
      "metadata": {
        "id": "dJlfXvdhYGO1",
        "colab_type": "code",
        "colab": {
          "base_uri": "https://localhost:8080/",
          "height": 217
        },
        "outputId": "75259034-306b-4b42-d623-2880c157d925"
      },
      "source": [
        "clean_feats.head(5)"
      ],
      "execution_count": 72,
      "outputs": [
        {
          "output_type": "execute_result",
          "data": {
            "text/html": [
              "<div>\n",
              "<style scoped>\n",
              "    .dataframe tbody tr th:only-of-type {\n",
              "        vertical-align: middle;\n",
              "    }\n",
              "\n",
              "    .dataframe tbody tr th {\n",
              "        vertical-align: top;\n",
              "    }\n",
              "\n",
              "    .dataframe thead th {\n",
              "        text-align: right;\n",
              "    }\n",
              "</style>\n",
              "<table border=\"1\" class=\"dataframe\">\n",
              "  <thead>\n",
              "    <tr style=\"text-align: right;\">\n",
              "      <th></th>\n",
              "      <th>jobId</th>\n",
              "      <th>companyId</th>\n",
              "      <th>jobType</th>\n",
              "      <th>degree</th>\n",
              "      <th>major</th>\n",
              "      <th>industry</th>\n",
              "      <th>yearsExperience</th>\n",
              "      <th>milesFromMetropolis</th>\n",
              "      <th>salary</th>\n",
              "      <th>group_mean</th>\n",
              "      <th>group_median</th>\n",
              "      <th>group_std</th>\n",
              "      <th>group_max</th>\n",
              "      <th>group_min</th>\n",
              "    </tr>\n",
              "  </thead>\n",
              "  <tbody>\n",
              "    <tr>\n",
              "      <th>0</th>\n",
              "      <td>JOB1362684407687</td>\n",
              "      <td>COMP37</td>\n",
              "      <td>CFO</td>\n",
              "      <td>MASTERS</td>\n",
              "      <td>MATH</td>\n",
              "      <td>HEALTH</td>\n",
              "      <td>10</td>\n",
              "      <td>83</td>\n",
              "      <td>130</td>\n",
              "      <td>130.875000</td>\n",
              "      <td>136.0</td>\n",
              "      <td>19.555324</td>\n",
              "      <td>150.0</td>\n",
              "      <td>98.0</td>\n",
              "    </tr>\n",
              "    <tr>\n",
              "      <th>1</th>\n",
              "      <td>JOB1362684407688</td>\n",
              "      <td>COMP19</td>\n",
              "      <td>CEO</td>\n",
              "      <td>HIGH_SCHOOL</td>\n",
              "      <td>NONE</td>\n",
              "      <td>WEB</td>\n",
              "      <td>3</td>\n",
              "      <td>73</td>\n",
              "      <td>101</td>\n",
              "      <td>138.031250</td>\n",
              "      <td>132.0</td>\n",
              "      <td>29.306248</td>\n",
              "      <td>204.0</td>\n",
              "      <td>90.0</td>\n",
              "    </tr>\n",
              "    <tr>\n",
              "      <th>2</th>\n",
              "      <td>JOB1362684407689</td>\n",
              "      <td>COMP52</td>\n",
              "      <td>VICE_PRESIDENT</td>\n",
              "      <td>DOCTORAL</td>\n",
              "      <td>PHYSICS</td>\n",
              "      <td>HEALTH</td>\n",
              "      <td>10</td>\n",
              "      <td>38</td>\n",
              "      <td>137</td>\n",
              "      <td>142.000000</td>\n",
              "      <td>137.0</td>\n",
              "      <td>28.827071</td>\n",
              "      <td>173.0</td>\n",
              "      <td>116.0</td>\n",
              "    </tr>\n",
              "    <tr>\n",
              "      <th>3</th>\n",
              "      <td>JOB1362684407690</td>\n",
              "      <td>COMP38</td>\n",
              "      <td>MANAGER</td>\n",
              "      <td>DOCTORAL</td>\n",
              "      <td>CHEMISTRY</td>\n",
              "      <td>AUTO</td>\n",
              "      <td>8</td>\n",
              "      <td>17</td>\n",
              "      <td>142</td>\n",
              "      <td>129.000000</td>\n",
              "      <td>131.0</td>\n",
              "      <td>29.251781</td>\n",
              "      <td>169.0</td>\n",
              "      <td>77.0</td>\n",
              "    </tr>\n",
              "    <tr>\n",
              "      <th>4</th>\n",
              "      <td>JOB1362684407691</td>\n",
              "      <td>COMP7</td>\n",
              "      <td>VICE_PRESIDENT</td>\n",
              "      <td>BACHELORS</td>\n",
              "      <td>PHYSICS</td>\n",
              "      <td>FINANCE</td>\n",
              "      <td>8</td>\n",
              "      <td>16</td>\n",
              "      <td>163</td>\n",
              "      <td>153.583333</td>\n",
              "      <td>141.5</td>\n",
              "      <td>46.310137</td>\n",
              "      <td>232.0</td>\n",
              "      <td>94.0</td>\n",
              "    </tr>\n",
              "  </tbody>\n",
              "</table>\n",
              "</div>"
            ],
            "text/plain": [
              "              jobId companyId         jobType  ...  group_std group_max group_min\n",
              "0  JOB1362684407687    COMP37             CFO  ...  19.555324     150.0      98.0\n",
              "1  JOB1362684407688    COMP19             CEO  ...  29.306248     204.0      90.0\n",
              "2  JOB1362684407689    COMP52  VICE_PRESIDENT  ...  28.827071     173.0     116.0\n",
              "3  JOB1362684407690    COMP38         MANAGER  ...  29.251781     169.0      77.0\n",
              "4  JOB1362684407691     COMP7  VICE_PRESIDENT  ...  46.310137     232.0      94.0\n",
              "\n",
              "[5 rows x 14 columns]"
            ]
          },
          "metadata": {
            "tags": []
          },
          "execution_count": 72
        }
      ]
    },
    {
      "cell_type": "code",
      "metadata": {
        "id": "Boi9T597yajI",
        "colab_type": "code",
        "colab": {
          "base_uri": "https://localhost:8080/",
          "height": 197
        },
        "outputId": "193eebc4-5a49-42f8-e040-27dd5aacce72"
      },
      "source": [
        "  #Label Encoding new dataframe after feature engineering\n",
        "  for col in cats_cols:\n",
        "      le = preprocessing.LabelEncoder()\n",
        "      clean_feats[col] = le.fit_transform(clean_feats[col].astype(str))\n",
        "      clean_feats[col] = clean_feats[col].astype('category')\n",
        "  clean_feats.head(5) "
      ],
      "execution_count": 73,
      "outputs": [
        {
          "output_type": "execute_result",
          "data": {
            "text/html": [
              "<div>\n",
              "<style scoped>\n",
              "    .dataframe tbody tr th:only-of-type {\n",
              "        vertical-align: middle;\n",
              "    }\n",
              "\n",
              "    .dataframe tbody tr th {\n",
              "        vertical-align: top;\n",
              "    }\n",
              "\n",
              "    .dataframe thead th {\n",
              "        text-align: right;\n",
              "    }\n",
              "</style>\n",
              "<table border=\"1\" class=\"dataframe\">\n",
              "  <thead>\n",
              "    <tr style=\"text-align: right;\">\n",
              "      <th></th>\n",
              "      <th>jobId</th>\n",
              "      <th>companyId</th>\n",
              "      <th>jobType</th>\n",
              "      <th>degree</th>\n",
              "      <th>major</th>\n",
              "      <th>industry</th>\n",
              "      <th>yearsExperience</th>\n",
              "      <th>milesFromMetropolis</th>\n",
              "      <th>salary</th>\n",
              "      <th>group_mean</th>\n",
              "      <th>group_median</th>\n",
              "      <th>group_std</th>\n",
              "      <th>group_max</th>\n",
              "      <th>group_min</th>\n",
              "    </tr>\n",
              "  </thead>\n",
              "  <tbody>\n",
              "    <tr>\n",
              "      <th>0</th>\n",
              "      <td>JOB1362684407687</td>\n",
              "      <td>31</td>\n",
              "      <td>1</td>\n",
              "      <td>3</td>\n",
              "      <td>6</td>\n",
              "      <td>3</td>\n",
              "      <td>10</td>\n",
              "      <td>83</td>\n",
              "      <td>130</td>\n",
              "      <td>130.875000</td>\n",
              "      <td>136.0</td>\n",
              "      <td>19.555324</td>\n",
              "      <td>150.0</td>\n",
              "      <td>98.0</td>\n",
              "    </tr>\n",
              "    <tr>\n",
              "      <th>1</th>\n",
              "      <td>JOB1362684407688</td>\n",
              "      <td>11</td>\n",
              "      <td>0</td>\n",
              "      <td>2</td>\n",
              "      <td>7</td>\n",
              "      <td>6</td>\n",
              "      <td>3</td>\n",
              "      <td>73</td>\n",
              "      <td>101</td>\n",
              "      <td>138.031250</td>\n",
              "      <td>132.0</td>\n",
              "      <td>29.306248</td>\n",
              "      <td>204.0</td>\n",
              "      <td>90.0</td>\n",
              "    </tr>\n",
              "    <tr>\n",
              "      <th>2</th>\n",
              "      <td>JOB1362684407689</td>\n",
              "      <td>48</td>\n",
              "      <td>7</td>\n",
              "      <td>1</td>\n",
              "      <td>8</td>\n",
              "      <td>3</td>\n",
              "      <td>10</td>\n",
              "      <td>38</td>\n",
              "      <td>137</td>\n",
              "      <td>142.000000</td>\n",
              "      <td>137.0</td>\n",
              "      <td>28.827071</td>\n",
              "      <td>173.0</td>\n",
              "      <td>116.0</td>\n",
              "    </tr>\n",
              "    <tr>\n",
              "      <th>3</th>\n",
              "      <td>JOB1362684407690</td>\n",
              "      <td>32</td>\n",
              "      <td>5</td>\n",
              "      <td>1</td>\n",
              "      <td>2</td>\n",
              "      <td>0</td>\n",
              "      <td>8</td>\n",
              "      <td>17</td>\n",
              "      <td>142</td>\n",
              "      <td>129.000000</td>\n",
              "      <td>131.0</td>\n",
              "      <td>29.251781</td>\n",
              "      <td>169.0</td>\n",
              "      <td>77.0</td>\n",
              "    </tr>\n",
              "    <tr>\n",
              "      <th>4</th>\n",
              "      <td>JOB1362684407691</td>\n",
              "      <td>60</td>\n",
              "      <td>7</td>\n",
              "      <td>0</td>\n",
              "      <td>8</td>\n",
              "      <td>2</td>\n",
              "      <td>8</td>\n",
              "      <td>16</td>\n",
              "      <td>163</td>\n",
              "      <td>153.583333</td>\n",
              "      <td>141.5</td>\n",
              "      <td>46.310137</td>\n",
              "      <td>232.0</td>\n",
              "      <td>94.0</td>\n",
              "    </tr>\n",
              "  </tbody>\n",
              "</table>\n",
              "</div>"
            ],
            "text/plain": [
              "              jobId companyId jobType  ...  group_std group_max group_min\n",
              "0  JOB1362684407687        31       1  ...  19.555324     150.0      98.0\n",
              "1  JOB1362684407688        11       0  ...  29.306248     204.0      90.0\n",
              "2  JOB1362684407689        48       7  ...  28.827071     173.0     116.0\n",
              "3  JOB1362684407690        32       5  ...  29.251781     169.0      77.0\n",
              "4  JOB1362684407691        60       7  ...  46.310137     232.0      94.0\n",
              "\n",
              "[5 rows x 14 columns]"
            ]
          },
          "metadata": {
            "tags": []
          },
          "execution_count": 73
        }
      ]
    },
    {
      "cell_type": "code",
      "metadata": {
        "id": "gtQtmprFhD-U",
        "colab_type": "code",
        "colab": {
          "base_uri": "https://localhost:8080/",
          "height": 266
        },
        "outputId": "fdb37046-b226-41d5-e8b1-be9b8fcc6719"
      },
      "source": [
        "clean_feats.dtypes"
      ],
      "execution_count": 74,
      "outputs": [
        {
          "output_type": "execute_result",
          "data": {
            "text/plain": [
              "jobId                    object\n",
              "companyId              category\n",
              "jobType                category\n",
              "degree                 category\n",
              "major                  category\n",
              "industry               category\n",
              "yearsExperience           int64\n",
              "milesFromMetropolis       int64\n",
              "salary                    int64\n",
              "group_mean              float64\n",
              "group_median            float64\n",
              "group_std               float64\n",
              "group_max               float64\n",
              "group_min               float64\n",
              "dtype: object"
            ]
          },
          "metadata": {
            "tags": []
          },
          "execution_count": 74
        }
      ]
    },
    {
      "cell_type": "markdown",
      "metadata": {
        "id": "EgXhd6Eq-OvT",
        "colab_type": "text"
      },
      "source": [
        "#Model building"
      ]
    },
    {
      "cell_type": "code",
      "metadata": {
        "id": "Lbne16Hq-Rr7",
        "colab_type": "code",
        "colab": {}
      },
      "source": [
        "  #Splitting the dependent and independent variables\n",
        "  X = pd.DataFrame(clean_feats.drop(columns=['salary','jobId']))\n",
        "  y = pd.DataFrame(clean_feats['salary'], index=None)\n"
      ],
      "execution_count": 0,
      "outputs": []
    },
    {
      "cell_type": "code",
      "metadata": {
        "id": "SMbAw9zS-bY4",
        "colab_type": "code",
        "colab": {}
      },
      "source": [
        "  #Splitting the dataset into the Training set and Test set\n",
        "  X_train, X_test, y_train, y_test = train_test_split(X, y, test_size = 0.25, \n",
        "                                                            random_state = 77)"
      ],
      "execution_count": 0,
      "outputs": []
    },
    {
      "cell_type": "code",
      "metadata": {
        "id": "znP7H3UlEYOy",
        "colab_type": "code",
        "colab": {}
      },
      "source": [
        "#initialize model list and dicts\n",
        "models = []\n",
        "mean_mse = {}\n",
        "cv_std = {}\n",
        "res = {}\n",
        "Test_MSE = {}"
      ],
      "execution_count": 0,
      "outputs": []
    },
    {
      "cell_type": "markdown",
      "metadata": {
        "id": "P1HQcCIDwrka",
        "colab_type": "text"
      },
      "source": [
        "Creating a pipeline for dataprocessing and model building\n",
        "\n",
        "Firstly models with default parameters are run with 5-fold Cross Validation and then the best model is selected and the hyperparameters are tuned by different methods\n",
        "\n",
        "The models selected are:\n",
        "\n",
        "1. Linear Regression\n",
        "2. Linear Regression with feature scaling and PCA\n",
        "3. Random Forest Regressor\n",
        "4. LightGBM Regressor"
      ]
    },
    {
      "cell_type": "code",
      "metadata": {
        "id": "8oIgATTJEqza",
        "colab_type": "code",
        "colab": {
          "base_uri": "https://localhost:8080/",
          "height": 835
        },
        "outputId": "da0969c8-0f2a-46e6-a056-7dda9141ea77"
      },
      "source": [
        "#Creating model objects for each model with default parameters which we will fine tune the hyperparameters later.\n",
        "lr = LinearRegression()\n",
        "lr_std_pca = make_pipeline(StandardScaler(), PCA(), LinearRegression())\n",
        "rf = RandomForestRegressor(n_estimators=100, criterion='mse', max_depth=None, min_samples_split=2, \n",
        "                           min_samples_leaf=1, min_weight_fraction_leaf=0.0, max_features='auto', \n",
        "                           max_leaf_nodes=None, min_impurity_decrease=0.0, min_impurity_split=None, \n",
        "                           bootstrap=True, oob_score=False, n_jobs=None, random_state=None, verbose=0, \n",
        "                           warm_start=False, ccp_alpha=0.0, max_samples=None)\n",
        "lgbm = lgb.LGBMRegressor(boosting_type='gbdt', num_leaves=10, max_depth=-1, learning_rate=0.1, n_estimators=50,\n",
        "                         subsample_for_bin=50000, objective=None, class_weight=None, min_split_gain=0.0, min_child_weight=0.001,\n",
        "                         min_child_samples=10, subsample=1.0, subsample_freq=0, colsample_bytree=1.0, reg_alpha=0.0, \n",
        "                         reg_lambda=0.0, random_state=None, n_jobs=-1, silent=True, importance_type='split') \n",
        "\n",
        "models.extend([lr, lr_std_pca, rf, lgbm])\n",
        "\n",
        "#parallel cross-validate models, using MSE as evaluation metric, and print summaries\n",
        "print(\"Beginning cross validation\")\n",
        "for model in models:\n",
        "    Model.train_model(model, X_train, y_train, num_procs, mean_mse,cv_std)\n",
        "    Model.test_results(model,X_train, X_test, y_train, y_test)\n",
        "    Model.print_summary(model, mean_mse, cv_std)\n",
        "\n",
        "#choose model with lowest mse\n",
        "    model = min(mean_mse, key=mean_mse.get)\n",
        "    print('\\nPredictions calculated using model with lowest MSE:')\n",
        "    print(model)    "
      ],
      "execution_count": 123,
      "outputs": [
        {
          "output_type": "stream",
          "text": [
            "Beginning cross validation\n",
            "Test MSE:\n",
            " 356.11363026948317\n",
            "\n",
            "Model:\n",
            " Pipeline(memory=None,\n",
            "         steps=[('standardscaler',\n",
            "                 StandardScaler(copy=True, with_mean=True, with_std=True)),\n",
            "                ('pca',\n",
            "                 PCA(copy=True, iterated_power='auto', n_components=None,\n",
            "                     random_state=None, svd_solver='auto', tol=0.0,\n",
            "                     whiten=False)),\n",
            "                ('linearregression',\n",
            "                 LinearRegression(copy_X=True, fit_intercept=True, n_jobs=None,\n",
            "                                  normalize=False))],\n",
            "         verbose=False)\n",
            "Average MSE:\n",
            " 358.85520736772787\n",
            "Standard deviation during CV:\n",
            " 1.0286780900991113\n",
            "\n",
            "Predictions calculated using model with lowest MSE:\n",
            "LGBMRegressor(boosting_type='gbdt', class_weight=None, colsample_bytree=1.0,\n",
            "              importance_type='split', learning_rate=0.1, max_depth=-1,\n",
            "              min_child_samples=20, min_child_weight=0.001, min_split_gain=0.0,\n",
            "              n_estimators=100, n_jobs=-1, num_leaves=31, objective=None,\n",
            "              random_state=None, reg_alpha=0.0, reg_lambda=0.0, silent=True,\n",
            "              subsample=1.0, subsample_for_bin=200000, subsample_freq=0)\n"
          ],
          "name": "stdout"
        },
        {
          "output_type": "error",
          "ename": "KeyboardInterrupt",
          "evalue": "ignored",
          "traceback": [
            "\u001b[0;31m---------------------------------------------------------------------------\u001b[0m",
            "\u001b[0;31mKeyboardInterrupt\u001b[0m                         Traceback (most recent call last)",
            "\u001b[0;32m<ipython-input-123-7d77ae77273f>\u001b[0m in \u001b[0;36m<module>\u001b[0;34m()\u001b[0m\n\u001b[1;32m     16\u001b[0m \u001b[0mprint\u001b[0m\u001b[0;34m(\u001b[0m\u001b[0;34m\"Beginning cross validation\"\u001b[0m\u001b[0;34m)\u001b[0m\u001b[0;34m\u001b[0m\u001b[0;34m\u001b[0m\u001b[0m\n\u001b[1;32m     17\u001b[0m \u001b[0;32mfor\u001b[0m \u001b[0mmodel\u001b[0m \u001b[0;32min\u001b[0m \u001b[0mmodels\u001b[0m\u001b[0;34m:\u001b[0m\u001b[0;34m\u001b[0m\u001b[0;34m\u001b[0m\u001b[0m\n\u001b[0;32m---> 18\u001b[0;31m     \u001b[0mModel\u001b[0m\u001b[0;34m.\u001b[0m\u001b[0mtrain_model\u001b[0m\u001b[0;34m(\u001b[0m\u001b[0mmodel\u001b[0m\u001b[0;34m,\u001b[0m \u001b[0mX_train\u001b[0m\u001b[0;34m,\u001b[0m \u001b[0my_train\u001b[0m\u001b[0;34m,\u001b[0m \u001b[0mnum_procs\u001b[0m\u001b[0;34m,\u001b[0m \u001b[0mmean_mse\u001b[0m\u001b[0;34m,\u001b[0m\u001b[0mcv_std\u001b[0m\u001b[0;34m)\u001b[0m\u001b[0;34m\u001b[0m\u001b[0;34m\u001b[0m\u001b[0m\n\u001b[0m\u001b[1;32m     19\u001b[0m     \u001b[0mModel\u001b[0m\u001b[0;34m.\u001b[0m\u001b[0mtest_results\u001b[0m\u001b[0;34m(\u001b[0m\u001b[0mmodel\u001b[0m\u001b[0;34m,\u001b[0m\u001b[0mX_train\u001b[0m\u001b[0;34m,\u001b[0m \u001b[0mX_test\u001b[0m\u001b[0;34m,\u001b[0m \u001b[0my_train\u001b[0m\u001b[0;34m,\u001b[0m \u001b[0my_test\u001b[0m\u001b[0;34m)\u001b[0m\u001b[0;34m\u001b[0m\u001b[0;34m\u001b[0m\u001b[0m\n\u001b[1;32m     20\u001b[0m     \u001b[0mModel\u001b[0m\u001b[0;34m.\u001b[0m\u001b[0mprint_summary\u001b[0m\u001b[0;34m(\u001b[0m\u001b[0mmodel\u001b[0m\u001b[0;34m,\u001b[0m \u001b[0mmean_mse\u001b[0m\u001b[0;34m,\u001b[0m \u001b[0mcv_std\u001b[0m\u001b[0;34m)\u001b[0m\u001b[0;34m\u001b[0m\u001b[0;34m\u001b[0m\u001b[0m\n",
            "\u001b[0;32m<ipython-input-117-2d7fe4e93259>\u001b[0m in \u001b[0;36mtrain_model\u001b[0;34m(model, feature_df, target_df, num_procs, mean_mse, cv_std)\u001b[0m\n\u001b[1;32m    288\u001b[0m \u001b[0;34m\u001b[0m\u001b[0m\n\u001b[1;32m    289\u001b[0m   \u001b[0;32mdef\u001b[0m \u001b[0mtrain_model\u001b[0m\u001b[0;34m(\u001b[0m\u001b[0mmodel\u001b[0m\u001b[0;34m,\u001b[0m \u001b[0mfeature_df\u001b[0m\u001b[0;34m,\u001b[0m \u001b[0mtarget_df\u001b[0m\u001b[0;34m,\u001b[0m \u001b[0mnum_procs\u001b[0m\u001b[0;34m,\u001b[0m \u001b[0mmean_mse\u001b[0m\u001b[0;34m,\u001b[0m \u001b[0mcv_std\u001b[0m \u001b[0;34m)\u001b[0m\u001b[0;34m:\u001b[0m\u001b[0;34m\u001b[0m\u001b[0;34m\u001b[0m\u001b[0m\n\u001b[0;32m--> 290\u001b[0;31m     \u001b[0mneg_mse\u001b[0m \u001b[0;34m=\u001b[0m \u001b[0mcross_val_score\u001b[0m\u001b[0;34m(\u001b[0m\u001b[0mmodel\u001b[0m\u001b[0;34m,\u001b[0m \u001b[0mfeature_df\u001b[0m\u001b[0;34m,\u001b[0m \u001b[0mtarget_df\u001b[0m\u001b[0;34m,\u001b[0m \u001b[0mcv\u001b[0m\u001b[0;34m=\u001b[0m\u001b[0;36m5\u001b[0m\u001b[0;34m,\u001b[0m \u001b[0mn_jobs\u001b[0m\u001b[0;34m=\u001b[0m\u001b[0mnum_procs\u001b[0m\u001b[0;34m,\u001b[0m \u001b[0mscoring\u001b[0m\u001b[0;34m=\u001b[0m\u001b[0;34m'neg_mean_squared_error'\u001b[0m\u001b[0;34m)\u001b[0m\u001b[0;34m\u001b[0m\u001b[0;34m\u001b[0m\u001b[0m\n\u001b[0m\u001b[1;32m    291\u001b[0m     \u001b[0mmean_mse\u001b[0m\u001b[0;34m[\u001b[0m\u001b[0mmodel\u001b[0m\u001b[0;34m]\u001b[0m \u001b[0;34m=\u001b[0m \u001b[0;34m-\u001b[0m\u001b[0;36m1.0\u001b[0m\u001b[0;34m*\u001b[0m\u001b[0mnp\u001b[0m\u001b[0;34m.\u001b[0m\u001b[0mmean\u001b[0m\u001b[0;34m(\u001b[0m\u001b[0mneg_mse\u001b[0m\u001b[0;34m)\u001b[0m\u001b[0;34m\u001b[0m\u001b[0;34m\u001b[0m\u001b[0m\n\u001b[1;32m    292\u001b[0m     \u001b[0mcv_std\u001b[0m\u001b[0;34m[\u001b[0m\u001b[0mmodel\u001b[0m\u001b[0;34m]\u001b[0m \u001b[0;34m=\u001b[0m \u001b[0mnp\u001b[0m\u001b[0;34m.\u001b[0m\u001b[0mstd\u001b[0m\u001b[0;34m(\u001b[0m\u001b[0mneg_mse\u001b[0m\u001b[0;34m)\u001b[0m\u001b[0;34m\u001b[0m\u001b[0;34m\u001b[0m\u001b[0m\n",
            "\u001b[0;32m/usr/local/lib/python3.6/dist-packages/sklearn/model_selection/_validation.py\u001b[0m in \u001b[0;36mcross_val_score\u001b[0;34m(estimator, X, y, groups, scoring, cv, n_jobs, verbose, fit_params, pre_dispatch, error_score)\u001b[0m\n\u001b[1;32m    388\u001b[0m                                 \u001b[0mfit_params\u001b[0m\u001b[0;34m=\u001b[0m\u001b[0mfit_params\u001b[0m\u001b[0;34m,\u001b[0m\u001b[0;34m\u001b[0m\u001b[0;34m\u001b[0m\u001b[0m\n\u001b[1;32m    389\u001b[0m                                 \u001b[0mpre_dispatch\u001b[0m\u001b[0;34m=\u001b[0m\u001b[0mpre_dispatch\u001b[0m\u001b[0;34m,\u001b[0m\u001b[0;34m\u001b[0m\u001b[0;34m\u001b[0m\u001b[0m\n\u001b[0;32m--> 390\u001b[0;31m                                 error_score=error_score)\n\u001b[0m\u001b[1;32m    391\u001b[0m     \u001b[0;32mreturn\u001b[0m \u001b[0mcv_results\u001b[0m\u001b[0;34m[\u001b[0m\u001b[0;34m'test_score'\u001b[0m\u001b[0;34m]\u001b[0m\u001b[0;34m\u001b[0m\u001b[0;34m\u001b[0m\u001b[0m\n\u001b[1;32m    392\u001b[0m \u001b[0;34m\u001b[0m\u001b[0m\n",
            "\u001b[0;32m/usr/local/lib/python3.6/dist-packages/sklearn/model_selection/_validation.py\u001b[0m in \u001b[0;36mcross_validate\u001b[0;34m(estimator, X, y, groups, scoring, cv, n_jobs, verbose, fit_params, pre_dispatch, return_train_score, return_estimator, error_score)\u001b[0m\n\u001b[1;32m    234\u001b[0m             \u001b[0mreturn_times\u001b[0m\u001b[0;34m=\u001b[0m\u001b[0;32mTrue\u001b[0m\u001b[0;34m,\u001b[0m \u001b[0mreturn_estimator\u001b[0m\u001b[0;34m=\u001b[0m\u001b[0mreturn_estimator\u001b[0m\u001b[0;34m,\u001b[0m\u001b[0;34m\u001b[0m\u001b[0;34m\u001b[0m\u001b[0m\n\u001b[1;32m    235\u001b[0m             error_score=error_score)\n\u001b[0;32m--> 236\u001b[0;31m         for train, test in cv.split(X, y, groups))\n\u001b[0m\u001b[1;32m    237\u001b[0m \u001b[0;34m\u001b[0m\u001b[0m\n\u001b[1;32m    238\u001b[0m     \u001b[0mzipped_scores\u001b[0m \u001b[0;34m=\u001b[0m \u001b[0mlist\u001b[0m\u001b[0;34m(\u001b[0m\u001b[0mzip\u001b[0m\u001b[0;34m(\u001b[0m\u001b[0;34m*\u001b[0m\u001b[0mscores\u001b[0m\u001b[0;34m)\u001b[0m\u001b[0;34m)\u001b[0m\u001b[0;34m\u001b[0m\u001b[0;34m\u001b[0m\u001b[0m\n",
            "\u001b[0;32m/usr/local/lib/python3.6/dist-packages/joblib/parallel.py\u001b[0m in \u001b[0;36m__call__\u001b[0;34m(self, iterable)\u001b[0m\n\u001b[1;32m   1015\u001b[0m \u001b[0;34m\u001b[0m\u001b[0m\n\u001b[1;32m   1016\u001b[0m             \u001b[0;32mwith\u001b[0m \u001b[0mself\u001b[0m\u001b[0;34m.\u001b[0m\u001b[0m_backend\u001b[0m\u001b[0;34m.\u001b[0m\u001b[0mretrieval_context\u001b[0m\u001b[0;34m(\u001b[0m\u001b[0;34m)\u001b[0m\u001b[0;34m:\u001b[0m\u001b[0;34m\u001b[0m\u001b[0;34m\u001b[0m\u001b[0m\n\u001b[0;32m-> 1017\u001b[0;31m                 \u001b[0mself\u001b[0m\u001b[0;34m.\u001b[0m\u001b[0mretrieve\u001b[0m\u001b[0;34m(\u001b[0m\u001b[0;34m)\u001b[0m\u001b[0;34m\u001b[0m\u001b[0;34m\u001b[0m\u001b[0m\n\u001b[0m\u001b[1;32m   1018\u001b[0m             \u001b[0;31m# Make sure that we get a last message telling us we are done\u001b[0m\u001b[0;34m\u001b[0m\u001b[0;34m\u001b[0m\u001b[0;34m\u001b[0m\u001b[0m\n\u001b[1;32m   1019\u001b[0m             \u001b[0melapsed_time\u001b[0m \u001b[0;34m=\u001b[0m \u001b[0mtime\u001b[0m\u001b[0;34m.\u001b[0m\u001b[0mtime\u001b[0m\u001b[0;34m(\u001b[0m\u001b[0;34m)\u001b[0m \u001b[0;34m-\u001b[0m \u001b[0mself\u001b[0m\u001b[0;34m.\u001b[0m\u001b[0m_start_time\u001b[0m\u001b[0;34m\u001b[0m\u001b[0;34m\u001b[0m\u001b[0m\n",
            "\u001b[0;32m/usr/local/lib/python3.6/dist-packages/joblib/parallel.py\u001b[0m in \u001b[0;36mretrieve\u001b[0;34m(self)\u001b[0m\n\u001b[1;32m    907\u001b[0m             \u001b[0;32mtry\u001b[0m\u001b[0;34m:\u001b[0m\u001b[0;34m\u001b[0m\u001b[0;34m\u001b[0m\u001b[0m\n\u001b[1;32m    908\u001b[0m                 \u001b[0;32mif\u001b[0m \u001b[0mgetattr\u001b[0m\u001b[0;34m(\u001b[0m\u001b[0mself\u001b[0m\u001b[0;34m.\u001b[0m\u001b[0m_backend\u001b[0m\u001b[0;34m,\u001b[0m \u001b[0;34m'supports_timeout'\u001b[0m\u001b[0;34m,\u001b[0m \u001b[0;32mFalse\u001b[0m\u001b[0;34m)\u001b[0m\u001b[0;34m:\u001b[0m\u001b[0;34m\u001b[0m\u001b[0;34m\u001b[0m\u001b[0m\n\u001b[0;32m--> 909\u001b[0;31m                     \u001b[0mself\u001b[0m\u001b[0;34m.\u001b[0m\u001b[0m_output\u001b[0m\u001b[0;34m.\u001b[0m\u001b[0mextend\u001b[0m\u001b[0;34m(\u001b[0m\u001b[0mjob\u001b[0m\u001b[0;34m.\u001b[0m\u001b[0mget\u001b[0m\u001b[0;34m(\u001b[0m\u001b[0mtimeout\u001b[0m\u001b[0;34m=\u001b[0m\u001b[0mself\u001b[0m\u001b[0;34m.\u001b[0m\u001b[0mtimeout\u001b[0m\u001b[0;34m)\u001b[0m\u001b[0;34m)\u001b[0m\u001b[0;34m\u001b[0m\u001b[0;34m\u001b[0m\u001b[0m\n\u001b[0m\u001b[1;32m    910\u001b[0m                 \u001b[0;32melse\u001b[0m\u001b[0;34m:\u001b[0m\u001b[0;34m\u001b[0m\u001b[0;34m\u001b[0m\u001b[0m\n\u001b[1;32m    911\u001b[0m                     \u001b[0mself\u001b[0m\u001b[0;34m.\u001b[0m\u001b[0m_output\u001b[0m\u001b[0;34m.\u001b[0m\u001b[0mextend\u001b[0m\u001b[0;34m(\u001b[0m\u001b[0mjob\u001b[0m\u001b[0;34m.\u001b[0m\u001b[0mget\u001b[0m\u001b[0;34m(\u001b[0m\u001b[0;34m)\u001b[0m\u001b[0;34m)\u001b[0m\u001b[0;34m\u001b[0m\u001b[0;34m\u001b[0m\u001b[0m\n",
            "\u001b[0;32m/usr/local/lib/python3.6/dist-packages/joblib/_parallel_backends.py\u001b[0m in \u001b[0;36mwrap_future_result\u001b[0;34m(future, timeout)\u001b[0m\n\u001b[1;32m    560\u001b[0m         AsyncResults.get from multiprocessing.\"\"\"\n\u001b[1;32m    561\u001b[0m         \u001b[0;32mtry\u001b[0m\u001b[0;34m:\u001b[0m\u001b[0;34m\u001b[0m\u001b[0;34m\u001b[0m\u001b[0m\n\u001b[0;32m--> 562\u001b[0;31m             \u001b[0;32mreturn\u001b[0m \u001b[0mfuture\u001b[0m\u001b[0;34m.\u001b[0m\u001b[0mresult\u001b[0m\u001b[0;34m(\u001b[0m\u001b[0mtimeout\u001b[0m\u001b[0;34m=\u001b[0m\u001b[0mtimeout\u001b[0m\u001b[0;34m)\u001b[0m\u001b[0;34m\u001b[0m\u001b[0;34m\u001b[0m\u001b[0m\n\u001b[0m\u001b[1;32m    563\u001b[0m         \u001b[0;32mexcept\u001b[0m \u001b[0mLokyTimeoutError\u001b[0m\u001b[0;34m:\u001b[0m\u001b[0;34m\u001b[0m\u001b[0;34m\u001b[0m\u001b[0m\n\u001b[1;32m    564\u001b[0m             \u001b[0;32mraise\u001b[0m \u001b[0mTimeoutError\u001b[0m\u001b[0;34m(\u001b[0m\u001b[0;34m)\u001b[0m\u001b[0;34m\u001b[0m\u001b[0;34m\u001b[0m\u001b[0m\n",
            "\u001b[0;32m/usr/lib/python3.6/concurrent/futures/_base.py\u001b[0m in \u001b[0;36mresult\u001b[0;34m(self, timeout)\u001b[0m\n\u001b[1;32m    425\u001b[0m                 \u001b[0;32mreturn\u001b[0m \u001b[0mself\u001b[0m\u001b[0;34m.\u001b[0m\u001b[0m__get_result\u001b[0m\u001b[0;34m(\u001b[0m\u001b[0;34m)\u001b[0m\u001b[0;34m\u001b[0m\u001b[0;34m\u001b[0m\u001b[0m\n\u001b[1;32m    426\u001b[0m \u001b[0;34m\u001b[0m\u001b[0m\n\u001b[0;32m--> 427\u001b[0;31m             \u001b[0mself\u001b[0m\u001b[0;34m.\u001b[0m\u001b[0m_condition\u001b[0m\u001b[0;34m.\u001b[0m\u001b[0mwait\u001b[0m\u001b[0;34m(\u001b[0m\u001b[0mtimeout\u001b[0m\u001b[0;34m)\u001b[0m\u001b[0;34m\u001b[0m\u001b[0;34m\u001b[0m\u001b[0m\n\u001b[0m\u001b[1;32m    428\u001b[0m \u001b[0;34m\u001b[0m\u001b[0m\n\u001b[1;32m    429\u001b[0m             \u001b[0;32mif\u001b[0m \u001b[0mself\u001b[0m\u001b[0;34m.\u001b[0m\u001b[0m_state\u001b[0m \u001b[0;32min\u001b[0m \u001b[0;34m[\u001b[0m\u001b[0mCANCELLED\u001b[0m\u001b[0;34m,\u001b[0m \u001b[0mCANCELLED_AND_NOTIFIED\u001b[0m\u001b[0;34m]\u001b[0m\u001b[0;34m:\u001b[0m\u001b[0;34m\u001b[0m\u001b[0;34m\u001b[0m\u001b[0m\n",
            "\u001b[0;32m/usr/lib/python3.6/threading.py\u001b[0m in \u001b[0;36mwait\u001b[0;34m(self, timeout)\u001b[0m\n\u001b[1;32m    293\u001b[0m         \u001b[0;32mtry\u001b[0m\u001b[0;34m:\u001b[0m    \u001b[0;31m# restore state no matter what (e.g., KeyboardInterrupt)\u001b[0m\u001b[0;34m\u001b[0m\u001b[0;34m\u001b[0m\u001b[0m\n\u001b[1;32m    294\u001b[0m             \u001b[0;32mif\u001b[0m \u001b[0mtimeout\u001b[0m \u001b[0;32mis\u001b[0m \u001b[0;32mNone\u001b[0m\u001b[0;34m:\u001b[0m\u001b[0;34m\u001b[0m\u001b[0;34m\u001b[0m\u001b[0m\n\u001b[0;32m--> 295\u001b[0;31m                 \u001b[0mwaiter\u001b[0m\u001b[0;34m.\u001b[0m\u001b[0macquire\u001b[0m\u001b[0;34m(\u001b[0m\u001b[0;34m)\u001b[0m\u001b[0;34m\u001b[0m\u001b[0;34m\u001b[0m\u001b[0m\n\u001b[0m\u001b[1;32m    296\u001b[0m                 \u001b[0mgotit\u001b[0m \u001b[0;34m=\u001b[0m \u001b[0;32mTrue\u001b[0m\u001b[0;34m\u001b[0m\u001b[0;34m\u001b[0m\u001b[0m\n\u001b[1;32m    297\u001b[0m             \u001b[0;32melse\u001b[0m\u001b[0;34m:\u001b[0m\u001b[0;34m\u001b[0m\u001b[0;34m\u001b[0m\u001b[0m\n",
            "\u001b[0;31mKeyboardInterrupt\u001b[0m: "
          ]
        }
      ]
    },
    {
      "cell_type": "code",
      "metadata": {
        "id": "CRvY4CA4xbVY",
        "colab_type": "code",
        "colab": {}
      },
      "source": [
        ""
      ],
      "execution_count": 0,
      "outputs": []
    },
    {
      "cell_type": "markdown",
      "metadata": {
        "id": "_Kn4TcEk1Aok",
        "colab_type": "text"
      },
      "source": [
        "#4. DEPLOY"
      ]
    },
    {
      "cell_type": "code",
      "metadata": {
        "id": "pmEHuKae1FPD",
        "colab_type": "code",
        "colab": {}
      },
      "source": [
        "from sklearn.externals import joblib \n",
        "  \n",
        "# Save the model as a pickle in a file \n",
        "for mod in models:\n",
        "  joblib.dump(mod, 'filename.pkl') \n",
        "  \n",
        "# Load the model from the file \n",
        "rfc_from_joblib = joblib.load('filename.pkl')"
      ],
      "execution_count": 0,
      "outputs": []
    }
  ]
}